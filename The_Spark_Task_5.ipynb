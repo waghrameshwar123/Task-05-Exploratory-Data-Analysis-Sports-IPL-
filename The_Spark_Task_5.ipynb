{
  "nbformat": 4,
  "nbformat_minor": 0,
  "metadata": {
    "colab": {
      "name": "The Spark Task 5.ipynb",
      "provenance": [],
      "mount_file_id": "1nmVWMsh-Wzng8LHK4Eapcxe-HrmcSkC4",
      "authorship_tag": "ABX9TyOt5zVNyqi3gsFz4CFlLqF5",
      "include_colab_link": true
    },
    "kernelspec": {
      "name": "python3",
      "display_name": "Python 3"
    }
  },
  "cells": [
    {
      "cell_type": "markdown",
      "metadata": {
        "id": "view-in-github",
        "colab_type": "text"
      },
      "source": [
        "<a href=\"https://colab.research.google.com/github/waghrameshwar123/Task-05-Exploratory-Data-Analysis-Sports-IPL-/blob/main/The_Spark_Task_5.ipynb\" target=\"_parent\"><img src=\"https://colab.research.google.com/assets/colab-badge.svg\" alt=\"Open In Colab\"/></a>"
      ]
    },
    {
      "cell_type": "markdown",
      "metadata": {
        "id": "vsy7twp64N1s"
      },
      "source": [
        "![image.png](data:image/png;base64,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)"
      ]
    },
    {
      "cell_type": "markdown",
      "metadata": {
        "id": "hXeCr_oA4krI"
      },
      "source": [
        "![image.png](data:image/png;base64,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)"
      ]
    },
    {
      "cell_type": "markdown",
      "metadata": {
        "id": "vp1nkeKfuvKx"
      },
      "source": [
        "Importing LIBRARIES:"
      ]
    },
    {
      "cell_type": "code",
      "metadata": {
        "id": "jzbqMnzndUrk"
      },
      "source": [
        "import pandas as pd\n",
        "import numpy as np\n",
        "import matplotlib.pyplot as plt\n",
        "import seaborn as sns\n",
        "%matplotlib inline"
      ],
      "execution_count": 29,
      "outputs": []
    },
    {
      "cell_type": "code",
      "metadata": {
        "id": "VbIZXJkmwOqi"
      },
      "source": [
        "matches = pd.read_csv(\"/content/drive/MyDrive/matches.csv\")"
      ],
      "execution_count": 3,
      "outputs": []
    },
    {
      "cell_type": "code",
      "metadata": {
        "id": "YhXZXpqbeB3D",
        "colab": {
          "base_uri": "https://localhost:8080/",
          "height": 445
        },
        "outputId": "6962710b-d07b-48a5-be5b-26ebe5b493d7"
      },
      "source": [
        "matches.head()"
      ],
      "execution_count": 4,
      "outputs": [
        {
          "output_type": "execute_result",
          "data": {
            "text/html": [
              "<div>\n",
              "<style scoped>\n",
              "    .dataframe tbody tr th:only-of-type {\n",
              "        vertical-align: middle;\n",
              "    }\n",
              "\n",
              "    .dataframe tbody tr th {\n",
              "        vertical-align: top;\n",
              "    }\n",
              "\n",
              "    .dataframe thead th {\n",
              "        text-align: right;\n",
              "    }\n",
              "</style>\n",
              "<table border=\"1\" class=\"dataframe\">\n",
              "  <thead>\n",
              "    <tr style=\"text-align: right;\">\n",
              "      <th></th>\n",
              "      <th>id</th>\n",
              "      <th>season</th>\n",
              "      <th>city</th>\n",
              "      <th>date</th>\n",
              "      <th>team1</th>\n",
              "      <th>team2</th>\n",
              "      <th>toss_winner</th>\n",
              "      <th>toss_decision</th>\n",
              "      <th>result</th>\n",
              "      <th>dl_applied</th>\n",
              "      <th>winner</th>\n",
              "      <th>win_by_runs</th>\n",
              "      <th>win_by_wickets</th>\n",
              "      <th>player_of_match</th>\n",
              "      <th>venue</th>\n",
              "      <th>umpire1</th>\n",
              "      <th>umpire2</th>\n",
              "      <th>umpire3</th>\n",
              "    </tr>\n",
              "  </thead>\n",
              "  <tbody>\n",
              "    <tr>\n",
              "      <th>0</th>\n",
              "      <td>1</td>\n",
              "      <td>2017</td>\n",
              "      <td>Hyderabad</td>\n",
              "      <td>2017-04-05</td>\n",
              "      <td>Sunrisers Hyderabad</td>\n",
              "      <td>Royal Challengers Bangalore</td>\n",
              "      <td>Royal Challengers Bangalore</td>\n",
              "      <td>field</td>\n",
              "      <td>normal</td>\n",
              "      <td>0</td>\n",
              "      <td>Sunrisers Hyderabad</td>\n",
              "      <td>35</td>\n",
              "      <td>0</td>\n",
              "      <td>Yuvraj Singh</td>\n",
              "      <td>Rajiv Gandhi International Stadium, Uppal</td>\n",
              "      <td>AY Dandekar</td>\n",
              "      <td>NJ Llong</td>\n",
              "      <td>NaN</td>\n",
              "    </tr>\n",
              "    <tr>\n",
              "      <th>1</th>\n",
              "      <td>2</td>\n",
              "      <td>2017</td>\n",
              "      <td>Pune</td>\n",
              "      <td>2017-04-06</td>\n",
              "      <td>Mumbai Indians</td>\n",
              "      <td>Rising Pune Supergiant</td>\n",
              "      <td>Rising Pune Supergiant</td>\n",
              "      <td>field</td>\n",
              "      <td>normal</td>\n",
              "      <td>0</td>\n",
              "      <td>Rising Pune Supergiant</td>\n",
              "      <td>0</td>\n",
              "      <td>7</td>\n",
              "      <td>SPD Smith</td>\n",
              "      <td>Maharashtra Cricket Association Stadium</td>\n",
              "      <td>A Nand Kishore</td>\n",
              "      <td>S Ravi</td>\n",
              "      <td>NaN</td>\n",
              "    </tr>\n",
              "    <tr>\n",
              "      <th>2</th>\n",
              "      <td>3</td>\n",
              "      <td>2017</td>\n",
              "      <td>Rajkot</td>\n",
              "      <td>2017-04-07</td>\n",
              "      <td>Gujarat Lions</td>\n",
              "      <td>Kolkata Knight Riders</td>\n",
              "      <td>Kolkata Knight Riders</td>\n",
              "      <td>field</td>\n",
              "      <td>normal</td>\n",
              "      <td>0</td>\n",
              "      <td>Kolkata Knight Riders</td>\n",
              "      <td>0</td>\n",
              "      <td>10</td>\n",
              "      <td>CA Lynn</td>\n",
              "      <td>Saurashtra Cricket Association Stadium</td>\n",
              "      <td>Nitin Menon</td>\n",
              "      <td>CK Nandan</td>\n",
              "      <td>NaN</td>\n",
              "    </tr>\n",
              "    <tr>\n",
              "      <th>3</th>\n",
              "      <td>4</td>\n",
              "      <td>2017</td>\n",
              "      <td>Indore</td>\n",
              "      <td>2017-04-08</td>\n",
              "      <td>Rising Pune Supergiant</td>\n",
              "      <td>Kings XI Punjab</td>\n",
              "      <td>Kings XI Punjab</td>\n",
              "      <td>field</td>\n",
              "      <td>normal</td>\n",
              "      <td>0</td>\n",
              "      <td>Kings XI Punjab</td>\n",
              "      <td>0</td>\n",
              "      <td>6</td>\n",
              "      <td>GJ Maxwell</td>\n",
              "      <td>Holkar Cricket Stadium</td>\n",
              "      <td>AK Chaudhary</td>\n",
              "      <td>C Shamshuddin</td>\n",
              "      <td>NaN</td>\n",
              "    </tr>\n",
              "    <tr>\n",
              "      <th>4</th>\n",
              "      <td>5</td>\n",
              "      <td>2017</td>\n",
              "      <td>Bangalore</td>\n",
              "      <td>2017-04-08</td>\n",
              "      <td>Royal Challengers Bangalore</td>\n",
              "      <td>Delhi Daredevils</td>\n",
              "      <td>Royal Challengers Bangalore</td>\n",
              "      <td>bat</td>\n",
              "      <td>normal</td>\n",
              "      <td>0</td>\n",
              "      <td>Royal Challengers Bangalore</td>\n",
              "      <td>15</td>\n",
              "      <td>0</td>\n",
              "      <td>KM Jadhav</td>\n",
              "      <td>M Chinnaswamy Stadium</td>\n",
              "      <td>NaN</td>\n",
              "      <td>NaN</td>\n",
              "      <td>NaN</td>\n",
              "    </tr>\n",
              "  </tbody>\n",
              "</table>\n",
              "</div>"
            ],
            "text/plain": [
              "   id  season       city  ...         umpire1        umpire2 umpire3\n",
              "0   1    2017  Hyderabad  ...     AY Dandekar       NJ Llong     NaN\n",
              "1   2    2017       Pune  ...  A Nand Kishore         S Ravi     NaN\n",
              "2   3    2017     Rajkot  ...     Nitin Menon      CK Nandan     NaN\n",
              "3   4    2017     Indore  ...    AK Chaudhary  C Shamshuddin     NaN\n",
              "4   5    2017  Bangalore  ...             NaN            NaN     NaN\n",
              "\n",
              "[5 rows x 18 columns]"
            ]
          },
          "metadata": {
            "tags": []
          },
          "execution_count": 4
        }
      ]
    },
    {
      "cell_type": "code",
      "metadata": {
        "colab": {
          "base_uri": "https://localhost:8080/"
        },
        "id": "hvXQbeQUwYrV",
        "outputId": "eb259b87-60c4-4ad2-cbd1-f65115ee4515"
      },
      "source": [
        "matches.info()"
      ],
      "execution_count": 5,
      "outputs": [
        {
          "output_type": "stream",
          "text": [
            "<class 'pandas.core.frame.DataFrame'>\n",
            "RangeIndex: 756 entries, 0 to 755\n",
            "Data columns (total 18 columns):\n",
            " #   Column           Non-Null Count  Dtype \n",
            "---  ------           --------------  ----- \n",
            " 0   id               756 non-null    int64 \n",
            " 1   season           756 non-null    int64 \n",
            " 2   city             749 non-null    object\n",
            " 3   date             756 non-null    object\n",
            " 4   team1            756 non-null    object\n",
            " 5   team2            756 non-null    object\n",
            " 6   toss_winner      756 non-null    object\n",
            " 7   toss_decision    756 non-null    object\n",
            " 8   result           756 non-null    object\n",
            " 9   dl_applied       756 non-null    int64 \n",
            " 10  winner           752 non-null    object\n",
            " 11  win_by_runs      756 non-null    int64 \n",
            " 12  win_by_wickets   756 non-null    int64 \n",
            " 13  player_of_match  752 non-null    object\n",
            " 14  venue            756 non-null    object\n",
            " 15  umpire1          754 non-null    object\n",
            " 16  umpire2          754 non-null    object\n",
            " 17  umpire3          119 non-null    object\n",
            "dtypes: int64(5), object(13)\n",
            "memory usage: 106.4+ KB\n"
          ],
          "name": "stdout"
        }
      ]
    },
    {
      "cell_type": "code",
      "metadata": {
        "colab": {
          "base_uri": "https://localhost:8080/"
        },
        "id": "pDdUk5Q9wfZM",
        "outputId": "a8681805-fda2-467d-82e5-61ac77d2eb5d"
      },
      "source": [
        "matches.shape"
      ],
      "execution_count": 6,
      "outputs": [
        {
          "output_type": "execute_result",
          "data": {
            "text/plain": [
              "(756, 18)"
            ]
          },
          "metadata": {
            "tags": []
          },
          "execution_count": 6
        }
      ]
    },
    {
      "cell_type": "code",
      "metadata": {
        "colab": {
          "base_uri": "https://localhost:8080/",
          "height": 297
        },
        "id": "WQl_R1fLwkVh",
        "outputId": "70422cc6-412f-4910-9bce-26259d7281a9"
      },
      "source": [
        "matches.describe()"
      ],
      "execution_count": 7,
      "outputs": [
        {
          "output_type": "execute_result",
          "data": {
            "text/html": [
              "<div>\n",
              "<style scoped>\n",
              "    .dataframe tbody tr th:only-of-type {\n",
              "        vertical-align: middle;\n",
              "    }\n",
              "\n",
              "    .dataframe tbody tr th {\n",
              "        vertical-align: top;\n",
              "    }\n",
              "\n",
              "    .dataframe thead th {\n",
              "        text-align: right;\n",
              "    }\n",
              "</style>\n",
              "<table border=\"1\" class=\"dataframe\">\n",
              "  <thead>\n",
              "    <tr style=\"text-align: right;\">\n",
              "      <th></th>\n",
              "      <th>id</th>\n",
              "      <th>season</th>\n",
              "      <th>dl_applied</th>\n",
              "      <th>win_by_runs</th>\n",
              "      <th>win_by_wickets</th>\n",
              "    </tr>\n",
              "  </thead>\n",
              "  <tbody>\n",
              "    <tr>\n",
              "      <th>count</th>\n",
              "      <td>756.000000</td>\n",
              "      <td>756.000000</td>\n",
              "      <td>756.000000</td>\n",
              "      <td>756.000000</td>\n",
              "      <td>756.000000</td>\n",
              "    </tr>\n",
              "    <tr>\n",
              "      <th>mean</th>\n",
              "      <td>1792.178571</td>\n",
              "      <td>2013.444444</td>\n",
              "      <td>0.025132</td>\n",
              "      <td>13.283069</td>\n",
              "      <td>3.350529</td>\n",
              "    </tr>\n",
              "    <tr>\n",
              "      <th>std</th>\n",
              "      <td>3464.478148</td>\n",
              "      <td>3.366895</td>\n",
              "      <td>0.156630</td>\n",
              "      <td>23.471144</td>\n",
              "      <td>3.387963</td>\n",
              "    </tr>\n",
              "    <tr>\n",
              "      <th>min</th>\n",
              "      <td>1.000000</td>\n",
              "      <td>2008.000000</td>\n",
              "      <td>0.000000</td>\n",
              "      <td>0.000000</td>\n",
              "      <td>0.000000</td>\n",
              "    </tr>\n",
              "    <tr>\n",
              "      <th>25%</th>\n",
              "      <td>189.750000</td>\n",
              "      <td>2011.000000</td>\n",
              "      <td>0.000000</td>\n",
              "      <td>0.000000</td>\n",
              "      <td>0.000000</td>\n",
              "    </tr>\n",
              "    <tr>\n",
              "      <th>50%</th>\n",
              "      <td>378.500000</td>\n",
              "      <td>2013.000000</td>\n",
              "      <td>0.000000</td>\n",
              "      <td>0.000000</td>\n",
              "      <td>4.000000</td>\n",
              "    </tr>\n",
              "    <tr>\n",
              "      <th>75%</th>\n",
              "      <td>567.250000</td>\n",
              "      <td>2016.000000</td>\n",
              "      <td>0.000000</td>\n",
              "      <td>19.000000</td>\n",
              "      <td>6.000000</td>\n",
              "    </tr>\n",
              "    <tr>\n",
              "      <th>max</th>\n",
              "      <td>11415.000000</td>\n",
              "      <td>2019.000000</td>\n",
              "      <td>1.000000</td>\n",
              "      <td>146.000000</td>\n",
              "      <td>10.000000</td>\n",
              "    </tr>\n",
              "  </tbody>\n",
              "</table>\n",
              "</div>"
            ],
            "text/plain": [
              "                 id       season  dl_applied  win_by_runs  win_by_wickets\n",
              "count    756.000000   756.000000  756.000000   756.000000      756.000000\n",
              "mean    1792.178571  2013.444444    0.025132    13.283069        3.350529\n",
              "std     3464.478148     3.366895    0.156630    23.471144        3.387963\n",
              "min        1.000000  2008.000000    0.000000     0.000000        0.000000\n",
              "25%      189.750000  2011.000000    0.000000     0.000000        0.000000\n",
              "50%      378.500000  2013.000000    0.000000     0.000000        4.000000\n",
              "75%      567.250000  2016.000000    0.000000    19.000000        6.000000\n",
              "max    11415.000000  2019.000000    1.000000   146.000000       10.000000"
            ]
          },
          "metadata": {
            "tags": []
          },
          "execution_count": 7
        }
      ]
    },
    {
      "cell_type": "code",
      "metadata": {
        "id": "dKosyZpkwnYz"
      },
      "source": [
        "deliveries = pd.read_csv(\"/content/drive/MyDrive/deliveries.csv\")"
      ],
      "execution_count": 8,
      "outputs": []
    },
    {
      "cell_type": "code",
      "metadata": {
        "colab": {
          "base_uri": "https://localhost:8080/",
          "height": 394
        },
        "id": "_KLiwZOewuvC",
        "outputId": "9065e228-c641-4f70-9df7-04271298b02e"
      },
      "source": [
        "deliveries.head()"
      ],
      "execution_count": 9,
      "outputs": [
        {
          "output_type": "execute_result",
          "data": {
            "text/html": [
              "<div>\n",
              "<style scoped>\n",
              "    .dataframe tbody tr th:only-of-type {\n",
              "        vertical-align: middle;\n",
              "    }\n",
              "\n",
              "    .dataframe tbody tr th {\n",
              "        vertical-align: top;\n",
              "    }\n",
              "\n",
              "    .dataframe thead th {\n",
              "        text-align: right;\n",
              "    }\n",
              "</style>\n",
              "<table border=\"1\" class=\"dataframe\">\n",
              "  <thead>\n",
              "    <tr style=\"text-align: right;\">\n",
              "      <th></th>\n",
              "      <th>match_id</th>\n",
              "      <th>inning</th>\n",
              "      <th>batting_team</th>\n",
              "      <th>bowling_team</th>\n",
              "      <th>over</th>\n",
              "      <th>ball</th>\n",
              "      <th>batsman</th>\n",
              "      <th>non_striker</th>\n",
              "      <th>bowler</th>\n",
              "      <th>is_super_over</th>\n",
              "      <th>wide_runs</th>\n",
              "      <th>bye_runs</th>\n",
              "      <th>legbye_runs</th>\n",
              "      <th>noball_runs</th>\n",
              "      <th>penalty_runs</th>\n",
              "      <th>batsman_runs</th>\n",
              "      <th>extra_runs</th>\n",
              "      <th>total_runs</th>\n",
              "      <th>player_dismissed</th>\n",
              "      <th>dismissal_kind</th>\n",
              "      <th>fielder</th>\n",
              "    </tr>\n",
              "  </thead>\n",
              "  <tbody>\n",
              "    <tr>\n",
              "      <th>0</th>\n",
              "      <td>1</td>\n",
              "      <td>1</td>\n",
              "      <td>Sunrisers Hyderabad</td>\n",
              "      <td>Royal Challengers Bangalore</td>\n",
              "      <td>1</td>\n",
              "      <td>1</td>\n",
              "      <td>DA Warner</td>\n",
              "      <td>S Dhawan</td>\n",
              "      <td>TS Mills</td>\n",
              "      <td>0</td>\n",
              "      <td>0</td>\n",
              "      <td>0</td>\n",
              "      <td>0</td>\n",
              "      <td>0</td>\n",
              "      <td>0</td>\n",
              "      <td>0</td>\n",
              "      <td>0</td>\n",
              "      <td>0</td>\n",
              "      <td>NaN</td>\n",
              "      <td>NaN</td>\n",
              "      <td>NaN</td>\n",
              "    </tr>\n",
              "    <tr>\n",
              "      <th>1</th>\n",
              "      <td>1</td>\n",
              "      <td>1</td>\n",
              "      <td>Sunrisers Hyderabad</td>\n",
              "      <td>Royal Challengers Bangalore</td>\n",
              "      <td>1</td>\n",
              "      <td>2</td>\n",
              "      <td>DA Warner</td>\n",
              "      <td>S Dhawan</td>\n",
              "      <td>TS Mills</td>\n",
              "      <td>0</td>\n",
              "      <td>0</td>\n",
              "      <td>0</td>\n",
              "      <td>0</td>\n",
              "      <td>0</td>\n",
              "      <td>0</td>\n",
              "      <td>0</td>\n",
              "      <td>0</td>\n",
              "      <td>0</td>\n",
              "      <td>NaN</td>\n",
              "      <td>NaN</td>\n",
              "      <td>NaN</td>\n",
              "    </tr>\n",
              "    <tr>\n",
              "      <th>2</th>\n",
              "      <td>1</td>\n",
              "      <td>1</td>\n",
              "      <td>Sunrisers Hyderabad</td>\n",
              "      <td>Royal Challengers Bangalore</td>\n",
              "      <td>1</td>\n",
              "      <td>3</td>\n",
              "      <td>DA Warner</td>\n",
              "      <td>S Dhawan</td>\n",
              "      <td>TS Mills</td>\n",
              "      <td>0</td>\n",
              "      <td>0</td>\n",
              "      <td>0</td>\n",
              "      <td>0</td>\n",
              "      <td>0</td>\n",
              "      <td>0</td>\n",
              "      <td>4</td>\n",
              "      <td>0</td>\n",
              "      <td>4</td>\n",
              "      <td>NaN</td>\n",
              "      <td>NaN</td>\n",
              "      <td>NaN</td>\n",
              "    </tr>\n",
              "    <tr>\n",
              "      <th>3</th>\n",
              "      <td>1</td>\n",
              "      <td>1</td>\n",
              "      <td>Sunrisers Hyderabad</td>\n",
              "      <td>Royal Challengers Bangalore</td>\n",
              "      <td>1</td>\n",
              "      <td>4</td>\n",
              "      <td>DA Warner</td>\n",
              "      <td>S Dhawan</td>\n",
              "      <td>TS Mills</td>\n",
              "      <td>0</td>\n",
              "      <td>0</td>\n",
              "      <td>0</td>\n",
              "      <td>0</td>\n",
              "      <td>0</td>\n",
              "      <td>0</td>\n",
              "      <td>0</td>\n",
              "      <td>0</td>\n",
              "      <td>0</td>\n",
              "      <td>NaN</td>\n",
              "      <td>NaN</td>\n",
              "      <td>NaN</td>\n",
              "    </tr>\n",
              "    <tr>\n",
              "      <th>4</th>\n",
              "      <td>1</td>\n",
              "      <td>1</td>\n",
              "      <td>Sunrisers Hyderabad</td>\n",
              "      <td>Royal Challengers Bangalore</td>\n",
              "      <td>1</td>\n",
              "      <td>5</td>\n",
              "      <td>DA Warner</td>\n",
              "      <td>S Dhawan</td>\n",
              "      <td>TS Mills</td>\n",
              "      <td>0</td>\n",
              "      <td>2</td>\n",
              "      <td>0</td>\n",
              "      <td>0</td>\n",
              "      <td>0</td>\n",
              "      <td>0</td>\n",
              "      <td>0</td>\n",
              "      <td>2</td>\n",
              "      <td>2</td>\n",
              "      <td>NaN</td>\n",
              "      <td>NaN</td>\n",
              "      <td>NaN</td>\n",
              "    </tr>\n",
              "  </tbody>\n",
              "</table>\n",
              "</div>"
            ],
            "text/plain": [
              "   match_id  inning  ... dismissal_kind fielder\n",
              "0         1       1  ...            NaN     NaN\n",
              "1         1       1  ...            NaN     NaN\n",
              "2         1       1  ...            NaN     NaN\n",
              "3         1       1  ...            NaN     NaN\n",
              "4         1       1  ...            NaN     NaN\n",
              "\n",
              "[5 rows x 21 columns]"
            ]
          },
          "metadata": {
            "tags": []
          },
          "execution_count": 9
        }
      ]
    },
    {
      "cell_type": "code",
      "metadata": {
        "colab": {
          "base_uri": "https://localhost:8080/"
        },
        "id": "jhz5qp-gwxOg",
        "outputId": "059d8804-3de4-4687-cb4a-0469acc0fa4c"
      },
      "source": [
        "deliveries.info()"
      ],
      "execution_count": 10,
      "outputs": [
        {
          "output_type": "stream",
          "text": [
            "<class 'pandas.core.frame.DataFrame'>\n",
            "RangeIndex: 179078 entries, 0 to 179077\n",
            "Data columns (total 21 columns):\n",
            " #   Column            Non-Null Count   Dtype \n",
            "---  ------            --------------   ----- \n",
            " 0   match_id          179078 non-null  int64 \n",
            " 1   inning            179078 non-null  int64 \n",
            " 2   batting_team      179078 non-null  object\n",
            " 3   bowling_team      179078 non-null  object\n",
            " 4   over              179078 non-null  int64 \n",
            " 5   ball              179078 non-null  int64 \n",
            " 6   batsman           179078 non-null  object\n",
            " 7   non_striker       179078 non-null  object\n",
            " 8   bowler            179078 non-null  object\n",
            " 9   is_super_over     179078 non-null  int64 \n",
            " 10  wide_runs         179078 non-null  int64 \n",
            " 11  bye_runs          179078 non-null  int64 \n",
            " 12  legbye_runs       179078 non-null  int64 \n",
            " 13  noball_runs       179078 non-null  int64 \n",
            " 14  penalty_runs      179078 non-null  int64 \n",
            " 15  batsman_runs      179078 non-null  int64 \n",
            " 16  extra_runs        179078 non-null  int64 \n",
            " 17  total_runs        179078 non-null  int64 \n",
            " 18  player_dismissed  8834 non-null    object\n",
            " 19  dismissal_kind    8834 non-null    object\n",
            " 20  fielder           6448 non-null    object\n",
            "dtypes: int64(13), object(8)\n",
            "memory usage: 28.7+ MB\n"
          ],
          "name": "stdout"
        }
      ]
    },
    {
      "cell_type": "code",
      "metadata": {
        "colab": {
          "base_uri": "https://localhost:8080/"
        },
        "id": "0-UfMD9Yw5xk",
        "outputId": "b5b78df9-fb1a-49a6-99c6-d61e4dd30c14"
      },
      "source": [
        "deliveries.shape"
      ],
      "execution_count": 11,
      "outputs": [
        {
          "output_type": "execute_result",
          "data": {
            "text/plain": [
              "(179078, 21)"
            ]
          },
          "metadata": {
            "tags": []
          },
          "execution_count": 11
        }
      ]
    },
    {
      "cell_type": "code",
      "metadata": {
        "colab": {
          "base_uri": "https://localhost:8080/",
          "height": 317
        },
        "id": "9Jbomnncw8IO",
        "outputId": "7bafc938-2d12-4666-de31-094d6a0849e6"
      },
      "source": [
        "deliveries.describe()"
      ],
      "execution_count": 12,
      "outputs": [
        {
          "output_type": "execute_result",
          "data": {
            "text/html": [
              "<div>\n",
              "<style scoped>\n",
              "    .dataframe tbody tr th:only-of-type {\n",
              "        vertical-align: middle;\n",
              "    }\n",
              "\n",
              "    .dataframe tbody tr th {\n",
              "        vertical-align: top;\n",
              "    }\n",
              "\n",
              "    .dataframe thead th {\n",
              "        text-align: right;\n",
              "    }\n",
              "</style>\n",
              "<table border=\"1\" class=\"dataframe\">\n",
              "  <thead>\n",
              "    <tr style=\"text-align: right;\">\n",
              "      <th></th>\n",
              "      <th>match_id</th>\n",
              "      <th>inning</th>\n",
              "      <th>over</th>\n",
              "      <th>ball</th>\n",
              "      <th>is_super_over</th>\n",
              "      <th>wide_runs</th>\n",
              "      <th>bye_runs</th>\n",
              "      <th>legbye_runs</th>\n",
              "      <th>noball_runs</th>\n",
              "      <th>penalty_runs</th>\n",
              "      <th>batsman_runs</th>\n",
              "      <th>extra_runs</th>\n",
              "      <th>total_runs</th>\n",
              "    </tr>\n",
              "  </thead>\n",
              "  <tbody>\n",
              "    <tr>\n",
              "      <th>count</th>\n",
              "      <td>179078.000000</td>\n",
              "      <td>179078.000000</td>\n",
              "      <td>179078.000000</td>\n",
              "      <td>179078.000000</td>\n",
              "      <td>179078.000000</td>\n",
              "      <td>179078.000000</td>\n",
              "      <td>179078.000000</td>\n",
              "      <td>179078.000000</td>\n",
              "      <td>179078.000000</td>\n",
              "      <td>179078.000000</td>\n",
              "      <td>179078.000000</td>\n",
              "      <td>179078.000000</td>\n",
              "      <td>179078.000000</td>\n",
              "    </tr>\n",
              "    <tr>\n",
              "      <th>mean</th>\n",
              "      <td>1802.252957</td>\n",
              "      <td>1.482952</td>\n",
              "      <td>10.162488</td>\n",
              "      <td>3.615587</td>\n",
              "      <td>0.000452</td>\n",
              "      <td>0.036721</td>\n",
              "      <td>0.004936</td>\n",
              "      <td>0.021136</td>\n",
              "      <td>0.004183</td>\n",
              "      <td>0.000056</td>\n",
              "      <td>1.246864</td>\n",
              "      <td>0.067032</td>\n",
              "      <td>1.313897</td>\n",
              "    </tr>\n",
              "    <tr>\n",
              "      <th>std</th>\n",
              "      <td>3472.322805</td>\n",
              "      <td>0.502074</td>\n",
              "      <td>5.677684</td>\n",
              "      <td>1.806966</td>\n",
              "      <td>0.021263</td>\n",
              "      <td>0.251161</td>\n",
              "      <td>0.116480</td>\n",
              "      <td>0.194908</td>\n",
              "      <td>0.070492</td>\n",
              "      <td>0.016709</td>\n",
              "      <td>1.608270</td>\n",
              "      <td>0.342553</td>\n",
              "      <td>1.605422</td>\n",
              "    </tr>\n",
              "    <tr>\n",
              "      <th>min</th>\n",
              "      <td>1.000000</td>\n",
              "      <td>1.000000</td>\n",
              "      <td>1.000000</td>\n",
              "      <td>1.000000</td>\n",
              "      <td>0.000000</td>\n",
              "      <td>0.000000</td>\n",
              "      <td>0.000000</td>\n",
              "      <td>0.000000</td>\n",
              "      <td>0.000000</td>\n",
              "      <td>0.000000</td>\n",
              "      <td>0.000000</td>\n",
              "      <td>0.000000</td>\n",
              "      <td>0.000000</td>\n",
              "    </tr>\n",
              "    <tr>\n",
              "      <th>25%</th>\n",
              "      <td>190.000000</td>\n",
              "      <td>1.000000</td>\n",
              "      <td>5.000000</td>\n",
              "      <td>2.000000</td>\n",
              "      <td>0.000000</td>\n",
              "      <td>0.000000</td>\n",
              "      <td>0.000000</td>\n",
              "      <td>0.000000</td>\n",
              "      <td>0.000000</td>\n",
              "      <td>0.000000</td>\n",
              "      <td>0.000000</td>\n",
              "      <td>0.000000</td>\n",
              "      <td>0.000000</td>\n",
              "    </tr>\n",
              "    <tr>\n",
              "      <th>50%</th>\n",
              "      <td>379.000000</td>\n",
              "      <td>1.000000</td>\n",
              "      <td>10.000000</td>\n",
              "      <td>4.000000</td>\n",
              "      <td>0.000000</td>\n",
              "      <td>0.000000</td>\n",
              "      <td>0.000000</td>\n",
              "      <td>0.000000</td>\n",
              "      <td>0.000000</td>\n",
              "      <td>0.000000</td>\n",
              "      <td>1.000000</td>\n",
              "      <td>0.000000</td>\n",
              "      <td>1.000000</td>\n",
              "    </tr>\n",
              "    <tr>\n",
              "      <th>75%</th>\n",
              "      <td>567.000000</td>\n",
              "      <td>2.000000</td>\n",
              "      <td>15.000000</td>\n",
              "      <td>5.000000</td>\n",
              "      <td>0.000000</td>\n",
              "      <td>0.000000</td>\n",
              "      <td>0.000000</td>\n",
              "      <td>0.000000</td>\n",
              "      <td>0.000000</td>\n",
              "      <td>0.000000</td>\n",
              "      <td>1.000000</td>\n",
              "      <td>0.000000</td>\n",
              "      <td>1.000000</td>\n",
              "    </tr>\n",
              "    <tr>\n",
              "      <th>max</th>\n",
              "      <td>11415.000000</td>\n",
              "      <td>5.000000</td>\n",
              "      <td>20.000000</td>\n",
              "      <td>9.000000</td>\n",
              "      <td>1.000000</td>\n",
              "      <td>5.000000</td>\n",
              "      <td>4.000000</td>\n",
              "      <td>5.000000</td>\n",
              "      <td>5.000000</td>\n",
              "      <td>5.000000</td>\n",
              "      <td>7.000000</td>\n",
              "      <td>7.000000</td>\n",
              "      <td>10.000000</td>\n",
              "    </tr>\n",
              "  </tbody>\n",
              "</table>\n",
              "</div>"
            ],
            "text/plain": [
              "            match_id         inning  ...     extra_runs     total_runs\n",
              "count  179078.000000  179078.000000  ...  179078.000000  179078.000000\n",
              "mean     1802.252957       1.482952  ...       0.067032       1.313897\n",
              "std      3472.322805       0.502074  ...       0.342553       1.605422\n",
              "min         1.000000       1.000000  ...       0.000000       0.000000\n",
              "25%       190.000000       1.000000  ...       0.000000       0.000000\n",
              "50%       379.000000       1.000000  ...       0.000000       1.000000\n",
              "75%       567.000000       2.000000  ...       0.000000       1.000000\n",
              "max     11415.000000       5.000000  ...       7.000000      10.000000\n",
              "\n",
              "[8 rows x 13 columns]"
            ]
          },
          "metadata": {
            "tags": []
          },
          "execution_count": 12
        }
      ]
    },
    {
      "cell_type": "code",
      "metadata": {
        "colab": {
          "base_uri": "https://localhost:8080/",
          "height": 564
        },
        "id": "Y_9SraNaw-AE",
        "outputId": "fc3ccf1a-fcf3-49d5-d63a-58dc55664be4"
      },
      "source": [
        "#merging the 2 datasets\n",
        "merge = pd.merge(deliveries,matches, left_on='match_id', right_on ='id')\n",
        "merge.head(5)"
      ],
      "execution_count": 15,
      "outputs": [
        {
          "output_type": "execute_result",
          "data": {
            "text/html": [
              "<div>\n",
              "<style scoped>\n",
              "    .dataframe tbody tr th:only-of-type {\n",
              "        vertical-align: middle;\n",
              "    }\n",
              "\n",
              "    .dataframe tbody tr th {\n",
              "        vertical-align: top;\n",
              "    }\n",
              "\n",
              "    .dataframe thead th {\n",
              "        text-align: right;\n",
              "    }\n",
              "</style>\n",
              "<table border=\"1\" class=\"dataframe\">\n",
              "  <thead>\n",
              "    <tr style=\"text-align: right;\">\n",
              "      <th></th>\n",
              "      <th>match_id</th>\n",
              "      <th>inning</th>\n",
              "      <th>batting_team</th>\n",
              "      <th>bowling_team</th>\n",
              "      <th>over</th>\n",
              "      <th>ball</th>\n",
              "      <th>batsman</th>\n",
              "      <th>non_striker</th>\n",
              "      <th>bowler</th>\n",
              "      <th>is_super_over</th>\n",
              "      <th>wide_runs</th>\n",
              "      <th>bye_runs</th>\n",
              "      <th>legbye_runs</th>\n",
              "      <th>noball_runs</th>\n",
              "      <th>penalty_runs</th>\n",
              "      <th>batsman_runs</th>\n",
              "      <th>extra_runs</th>\n",
              "      <th>total_runs</th>\n",
              "      <th>player_dismissed</th>\n",
              "      <th>dismissal_kind</th>\n",
              "      <th>fielder</th>\n",
              "      <th>id</th>\n",
              "      <th>season</th>\n",
              "      <th>city</th>\n",
              "      <th>date</th>\n",
              "      <th>team1</th>\n",
              "      <th>team2</th>\n",
              "      <th>toss_winner</th>\n",
              "      <th>toss_decision</th>\n",
              "      <th>result</th>\n",
              "      <th>dl_applied</th>\n",
              "      <th>winner</th>\n",
              "      <th>win_by_runs</th>\n",
              "      <th>win_by_wickets</th>\n",
              "      <th>player_of_match</th>\n",
              "      <th>venue</th>\n",
              "      <th>umpire1</th>\n",
              "      <th>umpire2</th>\n",
              "      <th>umpire3</th>\n",
              "    </tr>\n",
              "  </thead>\n",
              "  <tbody>\n",
              "    <tr>\n",
              "      <th>0</th>\n",
              "      <td>1</td>\n",
              "      <td>1</td>\n",
              "      <td>Sunrisers Hyderabad</td>\n",
              "      <td>Royal Challengers Bangalore</td>\n",
              "      <td>1</td>\n",
              "      <td>1</td>\n",
              "      <td>DA Warner</td>\n",
              "      <td>S Dhawan</td>\n",
              "      <td>TS Mills</td>\n",
              "      <td>0</td>\n",
              "      <td>0</td>\n",
              "      <td>0</td>\n",
              "      <td>0</td>\n",
              "      <td>0</td>\n",
              "      <td>0</td>\n",
              "      <td>0</td>\n",
              "      <td>0</td>\n",
              "      <td>0</td>\n",
              "      <td>NaN</td>\n",
              "      <td>NaN</td>\n",
              "      <td>NaN</td>\n",
              "      <td>1</td>\n",
              "      <td>2017</td>\n",
              "      <td>Hyderabad</td>\n",
              "      <td>2017-04-05</td>\n",
              "      <td>Sunrisers Hyderabad</td>\n",
              "      <td>Royal Challengers Bangalore</td>\n",
              "      <td>Royal Challengers Bangalore</td>\n",
              "      <td>field</td>\n",
              "      <td>normal</td>\n",
              "      <td>0</td>\n",
              "      <td>Sunrisers Hyderabad</td>\n",
              "      <td>35</td>\n",
              "      <td>0</td>\n",
              "      <td>Yuvraj Singh</td>\n",
              "      <td>Rajiv Gandhi International Stadium, Uppal</td>\n",
              "      <td>AY Dandekar</td>\n",
              "      <td>NJ Llong</td>\n",
              "      <td>NaN</td>\n",
              "    </tr>\n",
              "    <tr>\n",
              "      <th>1</th>\n",
              "      <td>1</td>\n",
              "      <td>1</td>\n",
              "      <td>Sunrisers Hyderabad</td>\n",
              "      <td>Royal Challengers Bangalore</td>\n",
              "      <td>1</td>\n",
              "      <td>2</td>\n",
              "      <td>DA Warner</td>\n",
              "      <td>S Dhawan</td>\n",
              "      <td>TS Mills</td>\n",
              "      <td>0</td>\n",
              "      <td>0</td>\n",
              "      <td>0</td>\n",
              "      <td>0</td>\n",
              "      <td>0</td>\n",
              "      <td>0</td>\n",
              "      <td>0</td>\n",
              "      <td>0</td>\n",
              "      <td>0</td>\n",
              "      <td>NaN</td>\n",
              "      <td>NaN</td>\n",
              "      <td>NaN</td>\n",
              "      <td>1</td>\n",
              "      <td>2017</td>\n",
              "      <td>Hyderabad</td>\n",
              "      <td>2017-04-05</td>\n",
              "      <td>Sunrisers Hyderabad</td>\n",
              "      <td>Royal Challengers Bangalore</td>\n",
              "      <td>Royal Challengers Bangalore</td>\n",
              "      <td>field</td>\n",
              "      <td>normal</td>\n",
              "      <td>0</td>\n",
              "      <td>Sunrisers Hyderabad</td>\n",
              "      <td>35</td>\n",
              "      <td>0</td>\n",
              "      <td>Yuvraj Singh</td>\n",
              "      <td>Rajiv Gandhi International Stadium, Uppal</td>\n",
              "      <td>AY Dandekar</td>\n",
              "      <td>NJ Llong</td>\n",
              "      <td>NaN</td>\n",
              "    </tr>\n",
              "    <tr>\n",
              "      <th>2</th>\n",
              "      <td>1</td>\n",
              "      <td>1</td>\n",
              "      <td>Sunrisers Hyderabad</td>\n",
              "      <td>Royal Challengers Bangalore</td>\n",
              "      <td>1</td>\n",
              "      <td>3</td>\n",
              "      <td>DA Warner</td>\n",
              "      <td>S Dhawan</td>\n",
              "      <td>TS Mills</td>\n",
              "      <td>0</td>\n",
              "      <td>0</td>\n",
              "      <td>0</td>\n",
              "      <td>0</td>\n",
              "      <td>0</td>\n",
              "      <td>0</td>\n",
              "      <td>4</td>\n",
              "      <td>0</td>\n",
              "      <td>4</td>\n",
              "      <td>NaN</td>\n",
              "      <td>NaN</td>\n",
              "      <td>NaN</td>\n",
              "      <td>1</td>\n",
              "      <td>2017</td>\n",
              "      <td>Hyderabad</td>\n",
              "      <td>2017-04-05</td>\n",
              "      <td>Sunrisers Hyderabad</td>\n",
              "      <td>Royal Challengers Bangalore</td>\n",
              "      <td>Royal Challengers Bangalore</td>\n",
              "      <td>field</td>\n",
              "      <td>normal</td>\n",
              "      <td>0</td>\n",
              "      <td>Sunrisers Hyderabad</td>\n",
              "      <td>35</td>\n",
              "      <td>0</td>\n",
              "      <td>Yuvraj Singh</td>\n",
              "      <td>Rajiv Gandhi International Stadium, Uppal</td>\n",
              "      <td>AY Dandekar</td>\n",
              "      <td>NJ Llong</td>\n",
              "      <td>NaN</td>\n",
              "    </tr>\n",
              "    <tr>\n",
              "      <th>3</th>\n",
              "      <td>1</td>\n",
              "      <td>1</td>\n",
              "      <td>Sunrisers Hyderabad</td>\n",
              "      <td>Royal Challengers Bangalore</td>\n",
              "      <td>1</td>\n",
              "      <td>4</td>\n",
              "      <td>DA Warner</td>\n",
              "      <td>S Dhawan</td>\n",
              "      <td>TS Mills</td>\n",
              "      <td>0</td>\n",
              "      <td>0</td>\n",
              "      <td>0</td>\n",
              "      <td>0</td>\n",
              "      <td>0</td>\n",
              "      <td>0</td>\n",
              "      <td>0</td>\n",
              "      <td>0</td>\n",
              "      <td>0</td>\n",
              "      <td>NaN</td>\n",
              "      <td>NaN</td>\n",
              "      <td>NaN</td>\n",
              "      <td>1</td>\n",
              "      <td>2017</td>\n",
              "      <td>Hyderabad</td>\n",
              "      <td>2017-04-05</td>\n",
              "      <td>Sunrisers Hyderabad</td>\n",
              "      <td>Royal Challengers Bangalore</td>\n",
              "      <td>Royal Challengers Bangalore</td>\n",
              "      <td>field</td>\n",
              "      <td>normal</td>\n",
              "      <td>0</td>\n",
              "      <td>Sunrisers Hyderabad</td>\n",
              "      <td>35</td>\n",
              "      <td>0</td>\n",
              "      <td>Yuvraj Singh</td>\n",
              "      <td>Rajiv Gandhi International Stadium, Uppal</td>\n",
              "      <td>AY Dandekar</td>\n",
              "      <td>NJ Llong</td>\n",
              "      <td>NaN</td>\n",
              "    </tr>\n",
              "    <tr>\n",
              "      <th>4</th>\n",
              "      <td>1</td>\n",
              "      <td>1</td>\n",
              "      <td>Sunrisers Hyderabad</td>\n",
              "      <td>Royal Challengers Bangalore</td>\n",
              "      <td>1</td>\n",
              "      <td>5</td>\n",
              "      <td>DA Warner</td>\n",
              "      <td>S Dhawan</td>\n",
              "      <td>TS Mills</td>\n",
              "      <td>0</td>\n",
              "      <td>2</td>\n",
              "      <td>0</td>\n",
              "      <td>0</td>\n",
              "      <td>0</td>\n",
              "      <td>0</td>\n",
              "      <td>0</td>\n",
              "      <td>2</td>\n",
              "      <td>2</td>\n",
              "      <td>NaN</td>\n",
              "      <td>NaN</td>\n",
              "      <td>NaN</td>\n",
              "      <td>1</td>\n",
              "      <td>2017</td>\n",
              "      <td>Hyderabad</td>\n",
              "      <td>2017-04-05</td>\n",
              "      <td>Sunrisers Hyderabad</td>\n",
              "      <td>Royal Challengers Bangalore</td>\n",
              "      <td>Royal Challengers Bangalore</td>\n",
              "      <td>field</td>\n",
              "      <td>normal</td>\n",
              "      <td>0</td>\n",
              "      <td>Sunrisers Hyderabad</td>\n",
              "      <td>35</td>\n",
              "      <td>0</td>\n",
              "      <td>Yuvraj Singh</td>\n",
              "      <td>Rajiv Gandhi International Stadium, Uppal</td>\n",
              "      <td>AY Dandekar</td>\n",
              "      <td>NJ Llong</td>\n",
              "      <td>NaN</td>\n",
              "    </tr>\n",
              "  </tbody>\n",
              "</table>\n",
              "</div>"
            ],
            "text/plain": [
              "   match_id  inning         batting_team  ...      umpire1   umpire2  umpire3\n",
              "0         1       1  Sunrisers Hyderabad  ...  AY Dandekar  NJ Llong      NaN\n",
              "1         1       1  Sunrisers Hyderabad  ...  AY Dandekar  NJ Llong      NaN\n",
              "2         1       1  Sunrisers Hyderabad  ...  AY Dandekar  NJ Llong      NaN\n",
              "3         1       1  Sunrisers Hyderabad  ...  AY Dandekar  NJ Llong      NaN\n",
              "4         1       1  Sunrisers Hyderabad  ...  AY Dandekar  NJ Llong      NaN\n",
              "\n",
              "[5 rows x 39 columns]"
            ]
          },
          "metadata": {
            "tags": []
          },
          "execution_count": 15
        }
      ]
    },
    {
      "cell_type": "code",
      "metadata": {
        "colab": {
          "base_uri": "https://localhost:8080/"
        },
        "id": "8i2_xq2MxI3U",
        "outputId": "863547f9-02e5-4fde-ff6f-4b5551f384d7"
      },
      "source": [
        "merge.info()"
      ],
      "execution_count": 16,
      "outputs": [
        {
          "output_type": "stream",
          "text": [
            "<class 'pandas.core.frame.DataFrame'>\n",
            "Int64Index: 179078 entries, 0 to 179077\n",
            "Data columns (total 39 columns):\n",
            " #   Column            Non-Null Count   Dtype \n",
            "---  ------            --------------   ----- \n",
            " 0   match_id          179078 non-null  int64 \n",
            " 1   inning            179078 non-null  int64 \n",
            " 2   batting_team      179078 non-null  object\n",
            " 3   bowling_team      179078 non-null  object\n",
            " 4   over              179078 non-null  int64 \n",
            " 5   ball              179078 non-null  int64 \n",
            " 6   batsman           179078 non-null  object\n",
            " 7   non_striker       179078 non-null  object\n",
            " 8   bowler            179078 non-null  object\n",
            " 9   is_super_over     179078 non-null  int64 \n",
            " 10  wide_runs         179078 non-null  int64 \n",
            " 11  bye_runs          179078 non-null  int64 \n",
            " 12  legbye_runs       179078 non-null  int64 \n",
            " 13  noball_runs       179078 non-null  int64 \n",
            " 14  penalty_runs      179078 non-null  int64 \n",
            " 15  batsman_runs      179078 non-null  int64 \n",
            " 16  extra_runs        179078 non-null  int64 \n",
            " 17  total_runs        179078 non-null  int64 \n",
            " 18  player_dismissed  8834 non-null    object\n",
            " 19  dismissal_kind    8834 non-null    object\n",
            " 20  fielder           6448 non-null    object\n",
            " 21  id                179078 non-null  int64 \n",
            " 22  season            179078 non-null  int64 \n",
            " 23  city              177378 non-null  object\n",
            " 24  date              179078 non-null  object\n",
            " 25  team1             179078 non-null  object\n",
            " 26  team2             179078 non-null  object\n",
            " 27  toss_winner       179078 non-null  object\n",
            " 28  toss_decision     179078 non-null  object\n",
            " 29  result            179078 non-null  object\n",
            " 30  dl_applied        179078 non-null  int64 \n",
            " 31  winner            178706 non-null  object\n",
            " 32  win_by_runs       179078 non-null  int64 \n",
            " 33  win_by_wickets    179078 non-null  int64 \n",
            " 34  player_of_match   178706 non-null  object\n",
            " 35  venue             179078 non-null  object\n",
            " 36  umpire1           178578 non-null  object\n",
            " 37  umpire2           178578 non-null  object\n",
            " 38  umpire3           28366 non-null   object\n",
            "dtypes: int64(18), object(21)\n",
            "memory usage: 54.7+ MB\n"
          ],
          "name": "stdout"
        }
      ]
    },
    {
      "cell_type": "code",
      "metadata": {
        "colab": {
          "base_uri": "https://localhost:8080/",
          "height": 317
        },
        "id": "Uutbq53AxQmP",
        "outputId": "f56e941b-effe-4756-c75e-286a597a32de"
      },
      "source": [
        "merge.describe()"
      ],
      "execution_count": 17,
      "outputs": [
        {
          "output_type": "execute_result",
          "data": {
            "text/html": [
              "<div>\n",
              "<style scoped>\n",
              "    .dataframe tbody tr th:only-of-type {\n",
              "        vertical-align: middle;\n",
              "    }\n",
              "\n",
              "    .dataframe tbody tr th {\n",
              "        vertical-align: top;\n",
              "    }\n",
              "\n",
              "    .dataframe thead th {\n",
              "        text-align: right;\n",
              "    }\n",
              "</style>\n",
              "<table border=\"1\" class=\"dataframe\">\n",
              "  <thead>\n",
              "    <tr style=\"text-align: right;\">\n",
              "      <th></th>\n",
              "      <th>match_id</th>\n",
              "      <th>inning</th>\n",
              "      <th>over</th>\n",
              "      <th>ball</th>\n",
              "      <th>is_super_over</th>\n",
              "      <th>wide_runs</th>\n",
              "      <th>bye_runs</th>\n",
              "      <th>legbye_runs</th>\n",
              "      <th>noball_runs</th>\n",
              "      <th>penalty_runs</th>\n",
              "      <th>batsman_runs</th>\n",
              "      <th>extra_runs</th>\n",
              "      <th>total_runs</th>\n",
              "      <th>id</th>\n",
              "      <th>season</th>\n",
              "      <th>dl_applied</th>\n",
              "      <th>win_by_runs</th>\n",
              "      <th>win_by_wickets</th>\n",
              "    </tr>\n",
              "  </thead>\n",
              "  <tbody>\n",
              "    <tr>\n",
              "      <th>count</th>\n",
              "      <td>179078.000000</td>\n",
              "      <td>179078.000000</td>\n",
              "      <td>179078.000000</td>\n",
              "      <td>179078.000000</td>\n",
              "      <td>179078.000000</td>\n",
              "      <td>179078.000000</td>\n",
              "      <td>179078.000000</td>\n",
              "      <td>179078.000000</td>\n",
              "      <td>179078.000000</td>\n",
              "      <td>179078.000000</td>\n",
              "      <td>179078.000000</td>\n",
              "      <td>179078.000000</td>\n",
              "      <td>179078.000000</td>\n",
              "      <td>179078.000000</td>\n",
              "      <td>179078.000000</td>\n",
              "      <td>179078.000000</td>\n",
              "      <td>179078.000000</td>\n",
              "      <td>179078.000000</td>\n",
              "    </tr>\n",
              "    <tr>\n",
              "      <th>mean</th>\n",
              "      <td>1802.252957</td>\n",
              "      <td>1.482952</td>\n",
              "      <td>10.162488</td>\n",
              "      <td>3.615587</td>\n",
              "      <td>0.000452</td>\n",
              "      <td>0.036721</td>\n",
              "      <td>0.004936</td>\n",
              "      <td>0.021136</td>\n",
              "      <td>0.004183</td>\n",
              "      <td>0.000056</td>\n",
              "      <td>1.246864</td>\n",
              "      <td>0.067032</td>\n",
              "      <td>1.313897</td>\n",
              "      <td>1802.252957</td>\n",
              "      <td>2013.444510</td>\n",
              "      <td>0.017914</td>\n",
              "      <td>13.404036</td>\n",
              "      <td>3.261579</td>\n",
              "    </tr>\n",
              "    <tr>\n",
              "      <th>std</th>\n",
              "      <td>3472.322805</td>\n",
              "      <td>0.502074</td>\n",
              "      <td>5.677684</td>\n",
              "      <td>1.806966</td>\n",
              "      <td>0.021263</td>\n",
              "      <td>0.251161</td>\n",
              "      <td>0.116480</td>\n",
              "      <td>0.194908</td>\n",
              "      <td>0.070492</td>\n",
              "      <td>0.016709</td>\n",
              "      <td>1.608270</td>\n",
              "      <td>0.342553</td>\n",
              "      <td>1.605422</td>\n",
              "      <td>3472.322805</td>\n",
              "      <td>3.363947</td>\n",
              "      <td>0.132639</td>\n",
              "      <td>23.261007</td>\n",
              "      <td>3.347033</td>\n",
              "    </tr>\n",
              "    <tr>\n",
              "      <th>min</th>\n",
              "      <td>1.000000</td>\n",
              "      <td>1.000000</td>\n",
              "      <td>1.000000</td>\n",
              "      <td>1.000000</td>\n",
              "      <td>0.000000</td>\n",
              "      <td>0.000000</td>\n",
              "      <td>0.000000</td>\n",
              "      <td>0.000000</td>\n",
              "      <td>0.000000</td>\n",
              "      <td>0.000000</td>\n",
              "      <td>0.000000</td>\n",
              "      <td>0.000000</td>\n",
              "      <td>0.000000</td>\n",
              "      <td>1.000000</td>\n",
              "      <td>2008.000000</td>\n",
              "      <td>0.000000</td>\n",
              "      <td>0.000000</td>\n",
              "      <td>0.000000</td>\n",
              "    </tr>\n",
              "    <tr>\n",
              "      <th>25%</th>\n",
              "      <td>190.000000</td>\n",
              "      <td>1.000000</td>\n",
              "      <td>5.000000</td>\n",
              "      <td>2.000000</td>\n",
              "      <td>0.000000</td>\n",
              "      <td>0.000000</td>\n",
              "      <td>0.000000</td>\n",
              "      <td>0.000000</td>\n",
              "      <td>0.000000</td>\n",
              "      <td>0.000000</td>\n",
              "      <td>0.000000</td>\n",
              "      <td>0.000000</td>\n",
              "      <td>0.000000</td>\n",
              "      <td>190.000000</td>\n",
              "      <td>2011.000000</td>\n",
              "      <td>0.000000</td>\n",
              "      <td>0.000000</td>\n",
              "      <td>0.000000</td>\n",
              "    </tr>\n",
              "    <tr>\n",
              "      <th>50%</th>\n",
              "      <td>379.000000</td>\n",
              "      <td>1.000000</td>\n",
              "      <td>10.000000</td>\n",
              "      <td>4.000000</td>\n",
              "      <td>0.000000</td>\n",
              "      <td>0.000000</td>\n",
              "      <td>0.000000</td>\n",
              "      <td>0.000000</td>\n",
              "      <td>0.000000</td>\n",
              "      <td>0.000000</td>\n",
              "      <td>1.000000</td>\n",
              "      <td>0.000000</td>\n",
              "      <td>1.000000</td>\n",
              "      <td>379.000000</td>\n",
              "      <td>2013.000000</td>\n",
              "      <td>0.000000</td>\n",
              "      <td>0.000000</td>\n",
              "      <td>3.000000</td>\n",
              "    </tr>\n",
              "    <tr>\n",
              "      <th>75%</th>\n",
              "      <td>567.000000</td>\n",
              "      <td>2.000000</td>\n",
              "      <td>15.000000</td>\n",
              "      <td>5.000000</td>\n",
              "      <td>0.000000</td>\n",
              "      <td>0.000000</td>\n",
              "      <td>0.000000</td>\n",
              "      <td>0.000000</td>\n",
              "      <td>0.000000</td>\n",
              "      <td>0.000000</td>\n",
              "      <td>1.000000</td>\n",
              "      <td>0.000000</td>\n",
              "      <td>1.000000</td>\n",
              "      <td>567.000000</td>\n",
              "      <td>2016.000000</td>\n",
              "      <td>0.000000</td>\n",
              "      <td>19.000000</td>\n",
              "      <td>6.000000</td>\n",
              "    </tr>\n",
              "    <tr>\n",
              "      <th>max</th>\n",
              "      <td>11415.000000</td>\n",
              "      <td>5.000000</td>\n",
              "      <td>20.000000</td>\n",
              "      <td>9.000000</td>\n",
              "      <td>1.000000</td>\n",
              "      <td>5.000000</td>\n",
              "      <td>4.000000</td>\n",
              "      <td>5.000000</td>\n",
              "      <td>5.000000</td>\n",
              "      <td>5.000000</td>\n",
              "      <td>7.000000</td>\n",
              "      <td>7.000000</td>\n",
              "      <td>10.000000</td>\n",
              "      <td>11415.000000</td>\n",
              "      <td>2019.000000</td>\n",
              "      <td>1.000000</td>\n",
              "      <td>146.000000</td>\n",
              "      <td>10.000000</td>\n",
              "    </tr>\n",
              "  </tbody>\n",
              "</table>\n",
              "</div>"
            ],
            "text/plain": [
              "            match_id         inning  ...    win_by_runs  win_by_wickets\n",
              "count  179078.000000  179078.000000  ...  179078.000000   179078.000000\n",
              "mean     1802.252957       1.482952  ...      13.404036        3.261579\n",
              "std      3472.322805       0.502074  ...      23.261007        3.347033\n",
              "min         1.000000       1.000000  ...       0.000000        0.000000\n",
              "25%       190.000000       1.000000  ...       0.000000        0.000000\n",
              "50%       379.000000       1.000000  ...       0.000000        3.000000\n",
              "75%       567.000000       2.000000  ...      19.000000        6.000000\n",
              "max     11415.000000       5.000000  ...     146.000000       10.000000\n",
              "\n",
              "[8 rows x 18 columns]"
            ]
          },
          "metadata": {
            "tags": []
          },
          "execution_count": 17
        }
      ]
    },
    {
      "cell_type": "code",
      "metadata": {
        "colab": {
          "base_uri": "https://localhost:8080/"
        },
        "id": "NZu_7wWhxkyX",
        "outputId": "30d3d974-aaf3-47db-96cb-32fc9899e990"
      },
      "source": [
        "matches.id.is_unique"
      ],
      "execution_count": 18,
      "outputs": [
        {
          "output_type": "execute_result",
          "data": {
            "text/plain": [
              "True"
            ]
          },
          "metadata": {
            "tags": []
          },
          "execution_count": 18
        }
      ]
    },
    {
      "cell_type": "code",
      "metadata": {
        "id": "K07cRZpYxn3A"
      },
      "source": [
        "matches.set_index('id', inplace=True)"
      ],
      "execution_count": 19,
      "outputs": []
    },
    {
      "cell_type": "code",
      "metadata": {
        "colab": {
          "base_uri": "https://localhost:8080/",
          "height": 444
        },
        "id": "ua1JJogDx3nP",
        "outputId": "77560482-7960-4894-8865-77d5ddf07e91"
      },
      "source": [
        "#Summary statistics of matches data\n",
        "matches.describe(include = 'all')"
      ],
      "execution_count": 20,
      "outputs": [
        {
          "output_type": "execute_result",
          "data": {
            "text/html": [
              "<div>\n",
              "<style scoped>\n",
              "    .dataframe tbody tr th:only-of-type {\n",
              "        vertical-align: middle;\n",
              "    }\n",
              "\n",
              "    .dataframe tbody tr th {\n",
              "        vertical-align: top;\n",
              "    }\n",
              "\n",
              "    .dataframe thead th {\n",
              "        text-align: right;\n",
              "    }\n",
              "</style>\n",
              "<table border=\"1\" class=\"dataframe\">\n",
              "  <thead>\n",
              "    <tr style=\"text-align: right;\">\n",
              "      <th></th>\n",
              "      <th>season</th>\n",
              "      <th>city</th>\n",
              "      <th>date</th>\n",
              "      <th>team1</th>\n",
              "      <th>team2</th>\n",
              "      <th>toss_winner</th>\n",
              "      <th>toss_decision</th>\n",
              "      <th>result</th>\n",
              "      <th>dl_applied</th>\n",
              "      <th>winner</th>\n",
              "      <th>win_by_runs</th>\n",
              "      <th>win_by_wickets</th>\n",
              "      <th>player_of_match</th>\n",
              "      <th>venue</th>\n",
              "      <th>umpire1</th>\n",
              "      <th>umpire2</th>\n",
              "      <th>umpire3</th>\n",
              "    </tr>\n",
              "  </thead>\n",
              "  <tbody>\n",
              "    <tr>\n",
              "      <th>count</th>\n",
              "      <td>756.000000</td>\n",
              "      <td>749</td>\n",
              "      <td>756</td>\n",
              "      <td>756</td>\n",
              "      <td>756</td>\n",
              "      <td>756</td>\n",
              "      <td>756</td>\n",
              "      <td>756</td>\n",
              "      <td>756.000000</td>\n",
              "      <td>752</td>\n",
              "      <td>756.000000</td>\n",
              "      <td>756.000000</td>\n",
              "      <td>752</td>\n",
              "      <td>756</td>\n",
              "      <td>754</td>\n",
              "      <td>754</td>\n",
              "      <td>119</td>\n",
              "    </tr>\n",
              "    <tr>\n",
              "      <th>unique</th>\n",
              "      <td>NaN</td>\n",
              "      <td>32</td>\n",
              "      <td>546</td>\n",
              "      <td>15</td>\n",
              "      <td>15</td>\n",
              "      <td>15</td>\n",
              "      <td>2</td>\n",
              "      <td>3</td>\n",
              "      <td>NaN</td>\n",
              "      <td>15</td>\n",
              "      <td>NaN</td>\n",
              "      <td>NaN</td>\n",
              "      <td>226</td>\n",
              "      <td>41</td>\n",
              "      <td>61</td>\n",
              "      <td>65</td>\n",
              "      <td>25</td>\n",
              "    </tr>\n",
              "    <tr>\n",
              "      <th>top</th>\n",
              "      <td>NaN</td>\n",
              "      <td>Mumbai</td>\n",
              "      <td>2010-03-31</td>\n",
              "      <td>Mumbai Indians</td>\n",
              "      <td>Kolkata Knight Riders</td>\n",
              "      <td>Mumbai Indians</td>\n",
              "      <td>field</td>\n",
              "      <td>normal</td>\n",
              "      <td>NaN</td>\n",
              "      <td>Mumbai Indians</td>\n",
              "      <td>NaN</td>\n",
              "      <td>NaN</td>\n",
              "      <td>CH Gayle</td>\n",
              "      <td>Eden Gardens</td>\n",
              "      <td>HDPK Dharmasena</td>\n",
              "      <td>C Shamshuddin</td>\n",
              "      <td>C Shamshuddin</td>\n",
              "    </tr>\n",
              "    <tr>\n",
              "      <th>freq</th>\n",
              "      <td>NaN</td>\n",
              "      <td>101</td>\n",
              "      <td>2</td>\n",
              "      <td>101</td>\n",
              "      <td>95</td>\n",
              "      <td>98</td>\n",
              "      <td>463</td>\n",
              "      <td>743</td>\n",
              "      <td>NaN</td>\n",
              "      <td>109</td>\n",
              "      <td>NaN</td>\n",
              "      <td>NaN</td>\n",
              "      <td>21</td>\n",
              "      <td>77</td>\n",
              "      <td>73</td>\n",
              "      <td>57</td>\n",
              "      <td>10</td>\n",
              "    </tr>\n",
              "    <tr>\n",
              "      <th>mean</th>\n",
              "      <td>2013.444444</td>\n",
              "      <td>NaN</td>\n",
              "      <td>NaN</td>\n",
              "      <td>NaN</td>\n",
              "      <td>NaN</td>\n",
              "      <td>NaN</td>\n",
              "      <td>NaN</td>\n",
              "      <td>NaN</td>\n",
              "      <td>0.025132</td>\n",
              "      <td>NaN</td>\n",
              "      <td>13.283069</td>\n",
              "      <td>3.350529</td>\n",
              "      <td>NaN</td>\n",
              "      <td>NaN</td>\n",
              "      <td>NaN</td>\n",
              "      <td>NaN</td>\n",
              "      <td>NaN</td>\n",
              "    </tr>\n",
              "    <tr>\n",
              "      <th>std</th>\n",
              "      <td>3.366895</td>\n",
              "      <td>NaN</td>\n",
              "      <td>NaN</td>\n",
              "      <td>NaN</td>\n",
              "      <td>NaN</td>\n",
              "      <td>NaN</td>\n",
              "      <td>NaN</td>\n",
              "      <td>NaN</td>\n",
              "      <td>0.156630</td>\n",
              "      <td>NaN</td>\n",
              "      <td>23.471144</td>\n",
              "      <td>3.387963</td>\n",
              "      <td>NaN</td>\n",
              "      <td>NaN</td>\n",
              "      <td>NaN</td>\n",
              "      <td>NaN</td>\n",
              "      <td>NaN</td>\n",
              "    </tr>\n",
              "    <tr>\n",
              "      <th>min</th>\n",
              "      <td>2008.000000</td>\n",
              "      <td>NaN</td>\n",
              "      <td>NaN</td>\n",
              "      <td>NaN</td>\n",
              "      <td>NaN</td>\n",
              "      <td>NaN</td>\n",
              "      <td>NaN</td>\n",
              "      <td>NaN</td>\n",
              "      <td>0.000000</td>\n",
              "      <td>NaN</td>\n",
              "      <td>0.000000</td>\n",
              "      <td>0.000000</td>\n",
              "      <td>NaN</td>\n",
              "      <td>NaN</td>\n",
              "      <td>NaN</td>\n",
              "      <td>NaN</td>\n",
              "      <td>NaN</td>\n",
              "    </tr>\n",
              "    <tr>\n",
              "      <th>25%</th>\n",
              "      <td>2011.000000</td>\n",
              "      <td>NaN</td>\n",
              "      <td>NaN</td>\n",
              "      <td>NaN</td>\n",
              "      <td>NaN</td>\n",
              "      <td>NaN</td>\n",
              "      <td>NaN</td>\n",
              "      <td>NaN</td>\n",
              "      <td>0.000000</td>\n",
              "      <td>NaN</td>\n",
              "      <td>0.000000</td>\n",
              "      <td>0.000000</td>\n",
              "      <td>NaN</td>\n",
              "      <td>NaN</td>\n",
              "      <td>NaN</td>\n",
              "      <td>NaN</td>\n",
              "      <td>NaN</td>\n",
              "    </tr>\n",
              "    <tr>\n",
              "      <th>50%</th>\n",
              "      <td>2013.000000</td>\n",
              "      <td>NaN</td>\n",
              "      <td>NaN</td>\n",
              "      <td>NaN</td>\n",
              "      <td>NaN</td>\n",
              "      <td>NaN</td>\n",
              "      <td>NaN</td>\n",
              "      <td>NaN</td>\n",
              "      <td>0.000000</td>\n",
              "      <td>NaN</td>\n",
              "      <td>0.000000</td>\n",
              "      <td>4.000000</td>\n",
              "      <td>NaN</td>\n",
              "      <td>NaN</td>\n",
              "      <td>NaN</td>\n",
              "      <td>NaN</td>\n",
              "      <td>NaN</td>\n",
              "    </tr>\n",
              "    <tr>\n",
              "      <th>75%</th>\n",
              "      <td>2016.000000</td>\n",
              "      <td>NaN</td>\n",
              "      <td>NaN</td>\n",
              "      <td>NaN</td>\n",
              "      <td>NaN</td>\n",
              "      <td>NaN</td>\n",
              "      <td>NaN</td>\n",
              "      <td>NaN</td>\n",
              "      <td>0.000000</td>\n",
              "      <td>NaN</td>\n",
              "      <td>19.000000</td>\n",
              "      <td>6.000000</td>\n",
              "      <td>NaN</td>\n",
              "      <td>NaN</td>\n",
              "      <td>NaN</td>\n",
              "      <td>NaN</td>\n",
              "      <td>NaN</td>\n",
              "    </tr>\n",
              "    <tr>\n",
              "      <th>max</th>\n",
              "      <td>2019.000000</td>\n",
              "      <td>NaN</td>\n",
              "      <td>NaN</td>\n",
              "      <td>NaN</td>\n",
              "      <td>NaN</td>\n",
              "      <td>NaN</td>\n",
              "      <td>NaN</td>\n",
              "      <td>NaN</td>\n",
              "      <td>1.000000</td>\n",
              "      <td>NaN</td>\n",
              "      <td>146.000000</td>\n",
              "      <td>10.000000</td>\n",
              "      <td>NaN</td>\n",
              "      <td>NaN</td>\n",
              "      <td>NaN</td>\n",
              "      <td>NaN</td>\n",
              "      <td>NaN</td>\n",
              "    </tr>\n",
              "  </tbody>\n",
              "</table>\n",
              "</div>"
            ],
            "text/plain": [
              "             season    city  ...        umpire2        umpire3\n",
              "count    756.000000     749  ...            754            119\n",
              "unique          NaN      32  ...             65             25\n",
              "top             NaN  Mumbai  ...  C Shamshuddin  C Shamshuddin\n",
              "freq            NaN     101  ...             57             10\n",
              "mean    2013.444444     NaN  ...            NaN            NaN\n",
              "std        3.366895     NaN  ...            NaN            NaN\n",
              "min     2008.000000     NaN  ...            NaN            NaN\n",
              "25%     2011.000000     NaN  ...            NaN            NaN\n",
              "50%     2013.000000     NaN  ...            NaN            NaN\n",
              "75%     2016.000000     NaN  ...            NaN            NaN\n",
              "max     2019.000000     NaN  ...            NaN            NaN\n",
              "\n",
              "[11 rows x 17 columns]"
            ]
          },
          "metadata": {
            "tags": []
          },
          "execution_count": 20
        }
      ]
    },
    {
      "cell_type": "code",
      "metadata": {
        "colab": {
          "base_uri": "https://localhost:8080/",
          "height": 818
        },
        "id": "0JGklnfZx54r",
        "outputId": "b5352add-92a2-4025-df2f-93cc7adc745c"
      },
      "source": [
        "matches.head(10)"
      ],
      "execution_count": 22,
      "outputs": [
        {
          "output_type": "execute_result",
          "data": {
            "text/html": [
              "<div>\n",
              "<style scoped>\n",
              "    .dataframe tbody tr th:only-of-type {\n",
              "        vertical-align: middle;\n",
              "    }\n",
              "\n",
              "    .dataframe tbody tr th {\n",
              "        vertical-align: top;\n",
              "    }\n",
              "\n",
              "    .dataframe thead th {\n",
              "        text-align: right;\n",
              "    }\n",
              "</style>\n",
              "<table border=\"1\" class=\"dataframe\">\n",
              "  <thead>\n",
              "    <tr style=\"text-align: right;\">\n",
              "      <th></th>\n",
              "      <th>season</th>\n",
              "      <th>city</th>\n",
              "      <th>date</th>\n",
              "      <th>team1</th>\n",
              "      <th>team2</th>\n",
              "      <th>toss_winner</th>\n",
              "      <th>toss_decision</th>\n",
              "      <th>result</th>\n",
              "      <th>dl_applied</th>\n",
              "      <th>winner</th>\n",
              "      <th>win_by_runs</th>\n",
              "      <th>win_by_wickets</th>\n",
              "      <th>player_of_match</th>\n",
              "      <th>venue</th>\n",
              "      <th>umpire1</th>\n",
              "      <th>umpire2</th>\n",
              "      <th>umpire3</th>\n",
              "    </tr>\n",
              "    <tr>\n",
              "      <th>id</th>\n",
              "      <th></th>\n",
              "      <th></th>\n",
              "      <th></th>\n",
              "      <th></th>\n",
              "      <th></th>\n",
              "      <th></th>\n",
              "      <th></th>\n",
              "      <th></th>\n",
              "      <th></th>\n",
              "      <th></th>\n",
              "      <th></th>\n",
              "      <th></th>\n",
              "      <th></th>\n",
              "      <th></th>\n",
              "      <th></th>\n",
              "      <th></th>\n",
              "      <th></th>\n",
              "    </tr>\n",
              "  </thead>\n",
              "  <tbody>\n",
              "    <tr>\n",
              "      <th>1</th>\n",
              "      <td>2017</td>\n",
              "      <td>Hyderabad</td>\n",
              "      <td>2017-04-05</td>\n",
              "      <td>Sunrisers Hyderabad</td>\n",
              "      <td>Royal Challengers Bangalore</td>\n",
              "      <td>Royal Challengers Bangalore</td>\n",
              "      <td>field</td>\n",
              "      <td>normal</td>\n",
              "      <td>0</td>\n",
              "      <td>Sunrisers Hyderabad</td>\n",
              "      <td>35</td>\n",
              "      <td>0</td>\n",
              "      <td>Yuvraj Singh</td>\n",
              "      <td>Rajiv Gandhi International Stadium, Uppal</td>\n",
              "      <td>AY Dandekar</td>\n",
              "      <td>NJ Llong</td>\n",
              "      <td>NaN</td>\n",
              "    </tr>\n",
              "    <tr>\n",
              "      <th>2</th>\n",
              "      <td>2017</td>\n",
              "      <td>Pune</td>\n",
              "      <td>2017-04-06</td>\n",
              "      <td>Mumbai Indians</td>\n",
              "      <td>Rising Pune Supergiant</td>\n",
              "      <td>Rising Pune Supergiant</td>\n",
              "      <td>field</td>\n",
              "      <td>normal</td>\n",
              "      <td>0</td>\n",
              "      <td>Rising Pune Supergiant</td>\n",
              "      <td>0</td>\n",
              "      <td>7</td>\n",
              "      <td>SPD Smith</td>\n",
              "      <td>Maharashtra Cricket Association Stadium</td>\n",
              "      <td>A Nand Kishore</td>\n",
              "      <td>S Ravi</td>\n",
              "      <td>NaN</td>\n",
              "    </tr>\n",
              "    <tr>\n",
              "      <th>3</th>\n",
              "      <td>2017</td>\n",
              "      <td>Rajkot</td>\n",
              "      <td>2017-04-07</td>\n",
              "      <td>Gujarat Lions</td>\n",
              "      <td>Kolkata Knight Riders</td>\n",
              "      <td>Kolkata Knight Riders</td>\n",
              "      <td>field</td>\n",
              "      <td>normal</td>\n",
              "      <td>0</td>\n",
              "      <td>Kolkata Knight Riders</td>\n",
              "      <td>0</td>\n",
              "      <td>10</td>\n",
              "      <td>CA Lynn</td>\n",
              "      <td>Saurashtra Cricket Association Stadium</td>\n",
              "      <td>Nitin Menon</td>\n",
              "      <td>CK Nandan</td>\n",
              "      <td>NaN</td>\n",
              "    </tr>\n",
              "    <tr>\n",
              "      <th>4</th>\n",
              "      <td>2017</td>\n",
              "      <td>Indore</td>\n",
              "      <td>2017-04-08</td>\n",
              "      <td>Rising Pune Supergiant</td>\n",
              "      <td>Kings XI Punjab</td>\n",
              "      <td>Kings XI Punjab</td>\n",
              "      <td>field</td>\n",
              "      <td>normal</td>\n",
              "      <td>0</td>\n",
              "      <td>Kings XI Punjab</td>\n",
              "      <td>0</td>\n",
              "      <td>6</td>\n",
              "      <td>GJ Maxwell</td>\n",
              "      <td>Holkar Cricket Stadium</td>\n",
              "      <td>AK Chaudhary</td>\n",
              "      <td>C Shamshuddin</td>\n",
              "      <td>NaN</td>\n",
              "    </tr>\n",
              "    <tr>\n",
              "      <th>5</th>\n",
              "      <td>2017</td>\n",
              "      <td>Bangalore</td>\n",
              "      <td>2017-04-08</td>\n",
              "      <td>Royal Challengers Bangalore</td>\n",
              "      <td>Delhi Daredevils</td>\n",
              "      <td>Royal Challengers Bangalore</td>\n",
              "      <td>bat</td>\n",
              "      <td>normal</td>\n",
              "      <td>0</td>\n",
              "      <td>Royal Challengers Bangalore</td>\n",
              "      <td>15</td>\n",
              "      <td>0</td>\n",
              "      <td>KM Jadhav</td>\n",
              "      <td>M Chinnaswamy Stadium</td>\n",
              "      <td>NaN</td>\n",
              "      <td>NaN</td>\n",
              "      <td>NaN</td>\n",
              "    </tr>\n",
              "    <tr>\n",
              "      <th>6</th>\n",
              "      <td>2017</td>\n",
              "      <td>Hyderabad</td>\n",
              "      <td>2017-04-09</td>\n",
              "      <td>Gujarat Lions</td>\n",
              "      <td>Sunrisers Hyderabad</td>\n",
              "      <td>Sunrisers Hyderabad</td>\n",
              "      <td>field</td>\n",
              "      <td>normal</td>\n",
              "      <td>0</td>\n",
              "      <td>Sunrisers Hyderabad</td>\n",
              "      <td>0</td>\n",
              "      <td>9</td>\n",
              "      <td>Rashid Khan</td>\n",
              "      <td>Rajiv Gandhi International Stadium, Uppal</td>\n",
              "      <td>A Deshmukh</td>\n",
              "      <td>NJ Llong</td>\n",
              "      <td>NaN</td>\n",
              "    </tr>\n",
              "    <tr>\n",
              "      <th>7</th>\n",
              "      <td>2017</td>\n",
              "      <td>Mumbai</td>\n",
              "      <td>2017-04-09</td>\n",
              "      <td>Kolkata Knight Riders</td>\n",
              "      <td>Mumbai Indians</td>\n",
              "      <td>Mumbai Indians</td>\n",
              "      <td>field</td>\n",
              "      <td>normal</td>\n",
              "      <td>0</td>\n",
              "      <td>Mumbai Indians</td>\n",
              "      <td>0</td>\n",
              "      <td>4</td>\n",
              "      <td>N Rana</td>\n",
              "      <td>Wankhede Stadium</td>\n",
              "      <td>Nitin Menon</td>\n",
              "      <td>CK Nandan</td>\n",
              "      <td>NaN</td>\n",
              "    </tr>\n",
              "    <tr>\n",
              "      <th>8</th>\n",
              "      <td>2017</td>\n",
              "      <td>Indore</td>\n",
              "      <td>2017-04-10</td>\n",
              "      <td>Royal Challengers Bangalore</td>\n",
              "      <td>Kings XI Punjab</td>\n",
              "      <td>Royal Challengers Bangalore</td>\n",
              "      <td>bat</td>\n",
              "      <td>normal</td>\n",
              "      <td>0</td>\n",
              "      <td>Kings XI Punjab</td>\n",
              "      <td>0</td>\n",
              "      <td>8</td>\n",
              "      <td>AR Patel</td>\n",
              "      <td>Holkar Cricket Stadium</td>\n",
              "      <td>AK Chaudhary</td>\n",
              "      <td>C Shamshuddin</td>\n",
              "      <td>NaN</td>\n",
              "    </tr>\n",
              "    <tr>\n",
              "      <th>9</th>\n",
              "      <td>2017</td>\n",
              "      <td>Pune</td>\n",
              "      <td>2017-04-11</td>\n",
              "      <td>Delhi Daredevils</td>\n",
              "      <td>Rising Pune Supergiant</td>\n",
              "      <td>Rising Pune Supergiant</td>\n",
              "      <td>field</td>\n",
              "      <td>normal</td>\n",
              "      <td>0</td>\n",
              "      <td>Delhi Daredevils</td>\n",
              "      <td>97</td>\n",
              "      <td>0</td>\n",
              "      <td>SV Samson</td>\n",
              "      <td>Maharashtra Cricket Association Stadium</td>\n",
              "      <td>AY Dandekar</td>\n",
              "      <td>S Ravi</td>\n",
              "      <td>NaN</td>\n",
              "    </tr>\n",
              "    <tr>\n",
              "      <th>10</th>\n",
              "      <td>2017</td>\n",
              "      <td>Mumbai</td>\n",
              "      <td>2017-04-12</td>\n",
              "      <td>Sunrisers Hyderabad</td>\n",
              "      <td>Mumbai Indians</td>\n",
              "      <td>Mumbai Indians</td>\n",
              "      <td>field</td>\n",
              "      <td>normal</td>\n",
              "      <td>0</td>\n",
              "      <td>Mumbai Indians</td>\n",
              "      <td>0</td>\n",
              "      <td>4</td>\n",
              "      <td>JJ Bumrah</td>\n",
              "      <td>Wankhede Stadium</td>\n",
              "      <td>Nitin Menon</td>\n",
              "      <td>CK Nandan</td>\n",
              "      <td>NaN</td>\n",
              "    </tr>\n",
              "  </tbody>\n",
              "</table>\n",
              "</div>"
            ],
            "text/plain": [
              "    season       city        date  ...         umpire1        umpire2 umpire3\n",
              "id                                 ...                                       \n",
              "1     2017  Hyderabad  2017-04-05  ...     AY Dandekar       NJ Llong     NaN\n",
              "2     2017       Pune  2017-04-06  ...  A Nand Kishore         S Ravi     NaN\n",
              "3     2017     Rajkot  2017-04-07  ...     Nitin Menon      CK Nandan     NaN\n",
              "4     2017     Indore  2017-04-08  ...    AK Chaudhary  C Shamshuddin     NaN\n",
              "5     2017  Bangalore  2017-04-08  ...             NaN            NaN     NaN\n",
              "6     2017  Hyderabad  2017-04-09  ...      A Deshmukh       NJ Llong     NaN\n",
              "7     2017     Mumbai  2017-04-09  ...     Nitin Menon      CK Nandan     NaN\n",
              "8     2017     Indore  2017-04-10  ...    AK Chaudhary  C Shamshuddin     NaN\n",
              "9     2017       Pune  2017-04-11  ...     AY Dandekar         S Ravi     NaN\n",
              "10    2017     Mumbai  2017-04-12  ...     Nitin Menon      CK Nandan     NaN\n",
              "\n",
              "[10 rows x 17 columns]"
            ]
          },
          "metadata": {
            "tags": []
          },
          "execution_count": 22
        }
      ]
    },
    {
      "cell_type": "code",
      "metadata": {
        "colab": {
          "base_uri": "https://localhost:8080/",
          "height": 297
        },
        "id": "-So5Zi3XyBgv",
        "outputId": "4c38b2d3-e863-48c3-f64f-a62dddc334c3"
      },
      "source": [
        "matches[matches.city.isnull()][['city','venue']]"
      ],
      "execution_count": 23,
      "outputs": [
        {
          "output_type": "execute_result",
          "data": {
            "text/html": [
              "<div>\n",
              "<style scoped>\n",
              "    .dataframe tbody tr th:only-of-type {\n",
              "        vertical-align: middle;\n",
              "    }\n",
              "\n",
              "    .dataframe tbody tr th {\n",
              "        vertical-align: top;\n",
              "    }\n",
              "\n",
              "    .dataframe thead th {\n",
              "        text-align: right;\n",
              "    }\n",
              "</style>\n",
              "<table border=\"1\" class=\"dataframe\">\n",
              "  <thead>\n",
              "    <tr style=\"text-align: right;\">\n",
              "      <th></th>\n",
              "      <th>city</th>\n",
              "      <th>venue</th>\n",
              "    </tr>\n",
              "    <tr>\n",
              "      <th>id</th>\n",
              "      <th></th>\n",
              "      <th></th>\n",
              "    </tr>\n",
              "  </thead>\n",
              "  <tbody>\n",
              "    <tr>\n",
              "      <th>462</th>\n",
              "      <td>NaN</td>\n",
              "      <td>Dubai International Cricket Stadium</td>\n",
              "    </tr>\n",
              "    <tr>\n",
              "      <th>463</th>\n",
              "      <td>NaN</td>\n",
              "      <td>Dubai International Cricket Stadium</td>\n",
              "    </tr>\n",
              "    <tr>\n",
              "      <th>467</th>\n",
              "      <td>NaN</td>\n",
              "      <td>Dubai International Cricket Stadium</td>\n",
              "    </tr>\n",
              "    <tr>\n",
              "      <th>469</th>\n",
              "      <td>NaN</td>\n",
              "      <td>Dubai International Cricket Stadium</td>\n",
              "    </tr>\n",
              "    <tr>\n",
              "      <th>470</th>\n",
              "      <td>NaN</td>\n",
              "      <td>Dubai International Cricket Stadium</td>\n",
              "    </tr>\n",
              "    <tr>\n",
              "      <th>475</th>\n",
              "      <td>NaN</td>\n",
              "      <td>Dubai International Cricket Stadium</td>\n",
              "    </tr>\n",
              "    <tr>\n",
              "      <th>477</th>\n",
              "      <td>NaN</td>\n",
              "      <td>Dubai International Cricket Stadium</td>\n",
              "    </tr>\n",
              "  </tbody>\n",
              "</table>\n",
              "</div>"
            ],
            "text/plain": [
              "    city                                venue\n",
              "id                                           \n",
              "462  NaN  Dubai International Cricket Stadium\n",
              "463  NaN  Dubai International Cricket Stadium\n",
              "467  NaN  Dubai International Cricket Stadium\n",
              "469  NaN  Dubai International Cricket Stadium\n",
              "470  NaN  Dubai International Cricket Stadium\n",
              "475  NaN  Dubai International Cricket Stadium\n",
              "477  NaN  Dubai International Cricket Stadium"
            ]
          },
          "metadata": {
            "tags": []
          },
          "execution_count": 23
        }
      ]
    },
    {
      "cell_type": "code",
      "metadata": {
        "id": "97yQ6q8ryLK6"
      },
      "source": [
        "matches.city = matches.city.fillna('Dubai')"
      ],
      "execution_count": 24,
      "outputs": []
    },
    {
      "cell_type": "code",
      "metadata": {
        "colab": {
          "base_uri": "https://localhost:8080/",
          "height": 213
        },
        "id": "hhA8tZajyVpI",
        "outputId": "3e990f58-736c-4bb8-a203-85567ff7c1bc"
      },
      "source": [
        "matches[(matches.umpire1.isnull()) | (matches.umpire2.isnull())]"
      ],
      "execution_count": 25,
      "outputs": [
        {
          "output_type": "execute_result",
          "data": {
            "text/html": [
              "<div>\n",
              "<style scoped>\n",
              "    .dataframe tbody tr th:only-of-type {\n",
              "        vertical-align: middle;\n",
              "    }\n",
              "\n",
              "    .dataframe tbody tr th {\n",
              "        vertical-align: top;\n",
              "    }\n",
              "\n",
              "    .dataframe thead th {\n",
              "        text-align: right;\n",
              "    }\n",
              "</style>\n",
              "<table border=\"1\" class=\"dataframe\">\n",
              "  <thead>\n",
              "    <tr style=\"text-align: right;\">\n",
              "      <th></th>\n",
              "      <th>season</th>\n",
              "      <th>city</th>\n",
              "      <th>date</th>\n",
              "      <th>team1</th>\n",
              "      <th>team2</th>\n",
              "      <th>toss_winner</th>\n",
              "      <th>toss_decision</th>\n",
              "      <th>result</th>\n",
              "      <th>dl_applied</th>\n",
              "      <th>winner</th>\n",
              "      <th>win_by_runs</th>\n",
              "      <th>win_by_wickets</th>\n",
              "      <th>player_of_match</th>\n",
              "      <th>venue</th>\n",
              "      <th>umpire1</th>\n",
              "      <th>umpire2</th>\n",
              "      <th>umpire3</th>\n",
              "    </tr>\n",
              "    <tr>\n",
              "      <th>id</th>\n",
              "      <th></th>\n",
              "      <th></th>\n",
              "      <th></th>\n",
              "      <th></th>\n",
              "      <th></th>\n",
              "      <th></th>\n",
              "      <th></th>\n",
              "      <th></th>\n",
              "      <th></th>\n",
              "      <th></th>\n",
              "      <th></th>\n",
              "      <th></th>\n",
              "      <th></th>\n",
              "      <th></th>\n",
              "      <th></th>\n",
              "      <th></th>\n",
              "      <th></th>\n",
              "    </tr>\n",
              "  </thead>\n",
              "  <tbody>\n",
              "    <tr>\n",
              "      <th>5</th>\n",
              "      <td>2017</td>\n",
              "      <td>Bangalore</td>\n",
              "      <td>2017-04-08</td>\n",
              "      <td>Royal Challengers Bangalore</td>\n",
              "      <td>Delhi Daredevils</td>\n",
              "      <td>Royal Challengers Bangalore</td>\n",
              "      <td>bat</td>\n",
              "      <td>normal</td>\n",
              "      <td>0</td>\n",
              "      <td>Royal Challengers Bangalore</td>\n",
              "      <td>15</td>\n",
              "      <td>0</td>\n",
              "      <td>KM Jadhav</td>\n",
              "      <td>M Chinnaswamy Stadium</td>\n",
              "      <td>NaN</td>\n",
              "      <td>NaN</td>\n",
              "      <td>NaN</td>\n",
              "    </tr>\n",
              "    <tr>\n",
              "      <th>11413</th>\n",
              "      <td>2019</td>\n",
              "      <td>Visakhapatnam</td>\n",
              "      <td>08/05/19</td>\n",
              "      <td>Sunrisers Hyderabad</td>\n",
              "      <td>Delhi Capitals</td>\n",
              "      <td>Delhi Capitals</td>\n",
              "      <td>field</td>\n",
              "      <td>normal</td>\n",
              "      <td>0</td>\n",
              "      <td>Delhi Capitals</td>\n",
              "      <td>0</td>\n",
              "      <td>2</td>\n",
              "      <td>RR Pant</td>\n",
              "      <td>ACA-VDCA Stadium</td>\n",
              "      <td>NaN</td>\n",
              "      <td>NaN</td>\n",
              "      <td>NaN</td>\n",
              "    </tr>\n",
              "  </tbody>\n",
              "</table>\n",
              "</div>"
            ],
            "text/plain": [
              "       season           city        date  ... umpire1 umpire2 umpire3\n",
              "id                                        ...                        \n",
              "5        2017      Bangalore  2017-04-08  ...     NaN     NaN     NaN\n",
              "11413    2019  Visakhapatnam    08/05/19  ...     NaN     NaN     NaN\n",
              "\n",
              "[2 rows x 17 columns]"
            ]
          },
          "metadata": {
            "tags": []
          },
          "execution_count": 25
        }
      ]
    },
    {
      "cell_type": "code",
      "metadata": {
        "id": "fkI5-gajyZND"
      },
      "source": [
        "matches = matches.drop('umpire3', axis = 1)"
      ],
      "execution_count": 26,
      "outputs": []
    },
    {
      "cell_type": "code",
      "metadata": {
        "colab": {
          "base_uri": "https://localhost:8080/",
          "height": 1000
        },
        "id": "v6TMNuJUyfCo",
        "outputId": "b36c3608-711d-4669-ca2d-dd28feba3e25"
      },
      "source": [
        "#city has 33 distinct values while we have 35 venues.\n",
        "#Let's find out venues grouped by cities to see which cities have multiple venues\n",
        "\n",
        "city_venue = matches.groupby(['city','venue']).count()['season']\n",
        "city_venue_df = pd.DataFrame(city_venue)\n",
        "city_venue_df"
      ],
      "execution_count": 27,
      "outputs": [
        {
          "output_type": "execute_result",
          "data": {
            "text/html": [
              "<div>\n",
              "<style scoped>\n",
              "    .dataframe tbody tr th:only-of-type {\n",
              "        vertical-align: middle;\n",
              "    }\n",
              "\n",
              "    .dataframe tbody tr th {\n",
              "        vertical-align: top;\n",
              "    }\n",
              "\n",
              "    .dataframe thead th {\n",
              "        text-align: right;\n",
              "    }\n",
              "</style>\n",
              "<table border=\"1\" class=\"dataframe\">\n",
              "  <thead>\n",
              "    <tr style=\"text-align: right;\">\n",
              "      <th></th>\n",
              "      <th></th>\n",
              "      <th>season</th>\n",
              "    </tr>\n",
              "    <tr>\n",
              "      <th>city</th>\n",
              "      <th>venue</th>\n",
              "      <th></th>\n",
              "    </tr>\n",
              "  </thead>\n",
              "  <tbody>\n",
              "    <tr>\n",
              "      <th>Abu Dhabi</th>\n",
              "      <th>Sheikh Zayed Stadium</th>\n",
              "      <td>7</td>\n",
              "    </tr>\n",
              "    <tr>\n",
              "      <th>Ahmedabad</th>\n",
              "      <th>Sardar Patel Stadium, Motera</th>\n",
              "      <td>12</td>\n",
              "    </tr>\n",
              "    <tr>\n",
              "      <th>Bangalore</th>\n",
              "      <th>M Chinnaswamy Stadium</th>\n",
              "      <td>66</td>\n",
              "    </tr>\n",
              "    <tr>\n",
              "      <th rowspan=\"2\" valign=\"top\">Bengaluru</th>\n",
              "      <th>M Chinnaswamy Stadium</th>\n",
              "      <td>7</td>\n",
              "    </tr>\n",
              "    <tr>\n",
              "      <th>M. Chinnaswamy Stadium</th>\n",
              "      <td>7</td>\n",
              "    </tr>\n",
              "    <tr>\n",
              "      <th>Bloemfontein</th>\n",
              "      <th>OUTsurance Oval</th>\n",
              "      <td>2</td>\n",
              "    </tr>\n",
              "    <tr>\n",
              "      <th>Cape Town</th>\n",
              "      <th>Newlands</th>\n",
              "      <td>7</td>\n",
              "    </tr>\n",
              "    <tr>\n",
              "      <th>Centurion</th>\n",
              "      <th>SuperSport Park</th>\n",
              "      <td>12</td>\n",
              "    </tr>\n",
              "    <tr>\n",
              "      <th rowspan=\"2\" valign=\"top\">Chandigarh</th>\n",
              "      <th>Punjab Cricket Association IS Bindra Stadium, Mohali</th>\n",
              "      <td>11</td>\n",
              "    </tr>\n",
              "    <tr>\n",
              "      <th>Punjab Cricket Association Stadium, Mohali</th>\n",
              "      <td>35</td>\n",
              "    </tr>\n",
              "    <tr>\n",
              "      <th rowspan=\"2\" valign=\"top\">Chennai</th>\n",
              "      <th>M. A. Chidambaram Stadium</th>\n",
              "      <td>8</td>\n",
              "    </tr>\n",
              "    <tr>\n",
              "      <th>MA Chidambaram Stadium, Chepauk</th>\n",
              "      <td>49</td>\n",
              "    </tr>\n",
              "    <tr>\n",
              "      <th>Cuttack</th>\n",
              "      <th>Barabati Stadium</th>\n",
              "      <td>7</td>\n",
              "    </tr>\n",
              "    <tr>\n",
              "      <th rowspan=\"2\" valign=\"top\">Delhi</th>\n",
              "      <th>Feroz Shah Kotla</th>\n",
              "      <td>67</td>\n",
              "    </tr>\n",
              "    <tr>\n",
              "      <th>Feroz Shah Kotla Ground</th>\n",
              "      <td>7</td>\n",
              "    </tr>\n",
              "    <tr>\n",
              "      <th>Dharamsala</th>\n",
              "      <th>Himachal Pradesh Cricket Association Stadium</th>\n",
              "      <td>9</td>\n",
              "    </tr>\n",
              "    <tr>\n",
              "      <th>Dubai</th>\n",
              "      <th>Dubai International Cricket Stadium</th>\n",
              "      <td>7</td>\n",
              "    </tr>\n",
              "    <tr>\n",
              "      <th>Durban</th>\n",
              "      <th>Kingsmead</th>\n",
              "      <td>15</td>\n",
              "    </tr>\n",
              "    <tr>\n",
              "      <th>East London</th>\n",
              "      <th>Buffalo Park</th>\n",
              "      <td>3</td>\n",
              "    </tr>\n",
              "    <tr>\n",
              "      <th rowspan=\"2\" valign=\"top\">Hyderabad</th>\n",
              "      <th>Rajiv Gandhi International Stadium, Uppal</th>\n",
              "      <td>56</td>\n",
              "    </tr>\n",
              "    <tr>\n",
              "      <th>Rajiv Gandhi Intl. Cricket Stadium</th>\n",
              "      <td>8</td>\n",
              "    </tr>\n",
              "    <tr>\n",
              "      <th>Indore</th>\n",
              "      <th>Holkar Cricket Stadium</th>\n",
              "      <td>9</td>\n",
              "    </tr>\n",
              "    <tr>\n",
              "      <th>Jaipur</th>\n",
              "      <th>Sawai Mansingh Stadium</th>\n",
              "      <td>47</td>\n",
              "    </tr>\n",
              "    <tr>\n",
              "      <th>Johannesburg</th>\n",
              "      <th>New Wanderers Stadium</th>\n",
              "      <td>8</td>\n",
              "    </tr>\n",
              "    <tr>\n",
              "      <th>Kanpur</th>\n",
              "      <th>Green Park</th>\n",
              "      <td>4</td>\n",
              "    </tr>\n",
              "    <tr>\n",
              "      <th>Kimberley</th>\n",
              "      <th>De Beers Diamond Oval</th>\n",
              "      <td>3</td>\n",
              "    </tr>\n",
              "    <tr>\n",
              "      <th>Kochi</th>\n",
              "      <th>Nehru Stadium</th>\n",
              "      <td>5</td>\n",
              "    </tr>\n",
              "    <tr>\n",
              "      <th>Kolkata</th>\n",
              "      <th>Eden Gardens</th>\n",
              "      <td>77</td>\n",
              "    </tr>\n",
              "    <tr>\n",
              "      <th rowspan=\"2\" valign=\"top\">Mohali</th>\n",
              "      <th>IS Bindra Stadium</th>\n",
              "      <td>7</td>\n",
              "    </tr>\n",
              "    <tr>\n",
              "      <th>Punjab Cricket Association IS Bindra Stadium, Mohali</th>\n",
              "      <td>3</td>\n",
              "    </tr>\n",
              "    <tr>\n",
              "      <th rowspan=\"3\" valign=\"top\">Mumbai</th>\n",
              "      <th>Brabourne Stadium</th>\n",
              "      <td>11</td>\n",
              "    </tr>\n",
              "    <tr>\n",
              "      <th>Dr DY Patil Sports Academy</th>\n",
              "      <td>17</td>\n",
              "    </tr>\n",
              "    <tr>\n",
              "      <th>Wankhede Stadium</th>\n",
              "      <td>73</td>\n",
              "    </tr>\n",
              "    <tr>\n",
              "      <th>Nagpur</th>\n",
              "      <th>Vidarbha Cricket Association Stadium, Jamtha</th>\n",
              "      <td>3</td>\n",
              "    </tr>\n",
              "    <tr>\n",
              "      <th>Port Elizabeth</th>\n",
              "      <th>St George's Park</th>\n",
              "      <td>7</td>\n",
              "    </tr>\n",
              "    <tr>\n",
              "      <th rowspan=\"2\" valign=\"top\">Pune</th>\n",
              "      <th>Maharashtra Cricket Association Stadium</th>\n",
              "      <td>21</td>\n",
              "    </tr>\n",
              "    <tr>\n",
              "      <th>Subrata Roy Sahara Stadium</th>\n",
              "      <td>17</td>\n",
              "    </tr>\n",
              "    <tr>\n",
              "      <th>Raipur</th>\n",
              "      <th>Shaheed Veer Narayan Singh International Stadium</th>\n",
              "      <td>6</td>\n",
              "    </tr>\n",
              "    <tr>\n",
              "      <th>Rajkot</th>\n",
              "      <th>Saurashtra Cricket Association Stadium</th>\n",
              "      <td>10</td>\n",
              "    </tr>\n",
              "    <tr>\n",
              "      <th>Ranchi</th>\n",
              "      <th>JSCA International Stadium Complex</th>\n",
              "      <td>7</td>\n",
              "    </tr>\n",
              "    <tr>\n",
              "      <th>Sharjah</th>\n",
              "      <th>Sharjah Cricket Stadium</th>\n",
              "      <td>6</td>\n",
              "    </tr>\n",
              "    <tr>\n",
              "      <th rowspan=\"2\" valign=\"top\">Visakhapatnam</th>\n",
              "      <th>ACA-VDCA Stadium</th>\n",
              "      <td>2</td>\n",
              "    </tr>\n",
              "    <tr>\n",
              "      <th>Dr. Y.S. Rajasekhara Reddy ACA-VDCA Cricket Stadium</th>\n",
              "      <td>11</td>\n",
              "    </tr>\n",
              "  </tbody>\n",
              "</table>\n",
              "</div>"
            ],
            "text/plain": [
              "                                                                   season\n",
              "city           venue                                                     \n",
              "Abu Dhabi      Sheikh Zayed Stadium                                     7\n",
              "Ahmedabad      Sardar Patel Stadium, Motera                            12\n",
              "Bangalore      M Chinnaswamy Stadium                                   66\n",
              "Bengaluru      M Chinnaswamy Stadium                                    7\n",
              "               M. Chinnaswamy Stadium                                   7\n",
              "Bloemfontein   OUTsurance Oval                                          2\n",
              "Cape Town      Newlands                                                 7\n",
              "Centurion      SuperSport Park                                         12\n",
              "Chandigarh     Punjab Cricket Association IS Bindra Stadium, M...      11\n",
              "               Punjab Cricket Association Stadium, Mohali              35\n",
              "Chennai        M. A. Chidambaram Stadium                                8\n",
              "               MA Chidambaram Stadium, Chepauk                         49\n",
              "Cuttack        Barabati Stadium                                         7\n",
              "Delhi          Feroz Shah Kotla                                        67\n",
              "               Feroz Shah Kotla Ground                                  7\n",
              "Dharamsala     Himachal Pradesh Cricket Association Stadium             9\n",
              "Dubai          Dubai International Cricket Stadium                      7\n",
              "Durban         Kingsmead                                               15\n",
              "East London    Buffalo Park                                             3\n",
              "Hyderabad      Rajiv Gandhi International Stadium, Uppal               56\n",
              "               Rajiv Gandhi Intl. Cricket Stadium                       8\n",
              "Indore         Holkar Cricket Stadium                                   9\n",
              "Jaipur         Sawai Mansingh Stadium                                  47\n",
              "Johannesburg   New Wanderers Stadium                                    8\n",
              "Kanpur         Green Park                                               4\n",
              "Kimberley      De Beers Diamond Oval                                    3\n",
              "Kochi          Nehru Stadium                                            5\n",
              "Kolkata        Eden Gardens                                            77\n",
              "Mohali         IS Bindra Stadium                                        7\n",
              "               Punjab Cricket Association IS Bindra Stadium, M...       3\n",
              "Mumbai         Brabourne Stadium                                       11\n",
              "               Dr DY Patil Sports Academy                              17\n",
              "               Wankhede Stadium                                        73\n",
              "Nagpur         Vidarbha Cricket Association Stadium, Jamtha             3\n",
              "Port Elizabeth St George's Park                                         7\n",
              "Pune           Maharashtra Cricket Association Stadium                 21\n",
              "               Subrata Roy Sahara Stadium                              17\n",
              "Raipur         Shaheed Veer Narayan Singh International Stadium         6\n",
              "Rajkot         Saurashtra Cricket Association Stadium                  10\n",
              "Ranchi         JSCA International Stadium Complex                       7\n",
              "Sharjah        Sharjah Cricket Stadium                                  6\n",
              "Visakhapatnam  ACA-VDCA Stadium                                         2\n",
              "               Dr. Y.S. Rajasekhara Reddy ACA-VDCA Cricket Sta...      11"
            ]
          },
          "metadata": {
            "tags": []
          },
          "execution_count": 27
        }
      ]
    },
    {
      "cell_type": "code",
      "metadata": {
        "colab": {
          "base_uri": "https://localhost:8080/",
          "height": 465
        },
        "id": "APteuJElyhQJ",
        "outputId": "93769320-f618-458c-ff15-65a8b12c4662"
      },
      "source": [
        "plt.figure(figsize=(15,5))\n",
        "sns.countplot('season', data = matches)\n",
        "plt.title(\"Number of matches played each season\",fontsize=18,fontweight=\"bold\")\n",
        "plt.ylabel(\"Count\", size = 25)\n",
        "plt.xlabel(\"Season\", size = 25)\n",
        "plt.xticks(size = 20)\n",
        "plt.yticks(size = 20)"
      ],
      "execution_count": 33,
      "outputs": [
        {
          "output_type": "stream",
          "text": [
            "/usr/local/lib/python3.7/dist-packages/seaborn/_decorators.py:43: FutureWarning: Pass the following variable as a keyword arg: x. From version 0.12, the only valid positional argument will be `data`, and passing other arguments without an explicit keyword will result in an error or misinterpretation.\n",
            "  FutureWarning\n"
          ],
          "name": "stderr"
        },
        {
          "output_type": "execute_result",
          "data": {
            "text/plain": [
              "(array([ 0., 10., 20., 30., 40., 50., 60., 70., 80.]),\n",
              " <a list of 9 Text major ticklabel objects>)"
            ]
          },
          "metadata": {
            "tags": []
          },
          "execution_count": 33
        },
        {
          "output_type": "display_data",
          "data": {
            "image/png": "[encoded data removed]",
            "text/plain": [
              "<Figure size 1080x360 with 1 Axes>"
            ]
          },
          "metadata": {
            "tags": [],
            "needs_background": "light"
          }
        }
      ]
    },
    {
      "cell_type": "code",
      "metadata": {
        "colab": {
          "base_uri": "https://localhost:8080/",
          "height": 430
        },
        "id": "CEN9FdATykmB",
        "outputId": "e70c35b4-e8fb-4d8b-d42f-48171c6c3feb"
      },
      "source": [
        "matches.groupby('season')['team1'].nunique().plot(kind = 'bar', figsize=(15,5))\n",
        "plt.title(\"Number of teams participated each season \",fontsize=18,fontweight=\"bold\")\n",
        "plt.ylabel(\"Count of teams\", size = 25)\n",
        "plt.xlabel(\"Season\", size = 25)\n",
        "plt.xticks(size = 15)\n",
        "plt.yticks(size = 15)"
      ],
      "execution_count": 34,
      "outputs": [
        {
          "output_type": "execute_result",
          "data": {
            "text/plain": [
              "(array([ 0.,  2.,  4.,  6.,  8., 10., 12.]),\n",
              " <a list of 7 Text major ticklabel objects>)"
            ]
          },
          "metadata": {
            "tags": []
          },
          "execution_count": 34
        },
        {
          "output_type": "display_data",
          "data": {
            "image/png": "[encoded data removed]",
            "text/plain": [
              "<Figure size 1080x360 with 1 Axes>"
            ]
          },
          "metadata": {
            "tags": [],
            "needs_background": "light"
          }
        }
      ]
    },
    {
      "cell_type": "code",
      "metadata": {
        "colab": {
          "base_uri": "https://localhost:8080/",
          "height": 553
        },
        "id": "fSyT5j2Kzypj",
        "outputId": "ae757db2-9b28-4051-c5da-5a4f8a82c61a"
      },
      "source": [
        "matches.venue.value_counts().sort_values(ascending = True).tail(10).plot(kind = 'barh',figsize=(12,8), fontsize=15, color='red')\n",
        "plt.title(\"Venue which has hosted most number of IPL matches\",fontsize=18,fontweight=\"bold\")\n",
        "plt.ylabel(\"Venue\", size = 25)\n",
        "plt.xlabel(\"Frequency\", size = 25)"
      ],
      "execution_count": 35,
      "outputs": [
        {
          "output_type": "execute_result",
          "data": {
            "text/plain": [
              "Text(0.5, 0, 'Frequency')"
            ]
          },
          "metadata": {
            "tags": []
          },
          "execution_count": 35
        },
        {
          "output_type": "display_data",
          "data": {
            "image/png": "[encoded data removed]",
            "text/plain": [
              "<Figure size 864x576 with 1 Axes>"
            ]
          },
          "metadata": {
            "tags": [],
            "needs_background": "light"
          }
        }
      ]
    },
    {
      "cell_type": "code",
      "metadata": {
        "id": "pMJUPop5z41B"
      },
      "source": [
        "#creating a dataframe with season and winner columns\n",
        "winning_teams = matches[['season','winner']]"
      ],
      "execution_count": 36,
      "outputs": []
    },
    {
      "cell_type": "code",
      "metadata": {
        "id": "idvqRhVSz9sY"
      },
      "source": [
        "#dictionaries to get winners to each season\n",
        "winners_team = {}\n",
        "for i in sorted(winning_teams.season.unique()):\n",
        "    winners_team[i] = winning_teams[winning_teams.season == i]['winner'].tail(1).values[0]\n",
        "    \n",
        "winners_of_IPL = pd.Series(winners_team)\n",
        "winners_of_IPL = pd.DataFrame(winners_of_IPL, columns=['team'])"
      ],
      "execution_count": 37,
      "outputs": []
    },
    {
      "cell_type": "code",
      "metadata": {
        "colab": {
          "base_uri": "https://localhost:8080/",
          "height": 390
        },
        "id": "yO3sd37J0ACj",
        "outputId": "3279c508-93b0-4008-d313-f9b381fdd0aa"
      },
      "source": [
        "winners_of_IPL['team'].value_counts().plot(kind = 'barh', figsize = (15,5), color = 'darkgreen')\n",
        "plt.title(\"Winners of IPL across 11 seasons\",fontsize=18,fontweight=\"bold\")\n",
        "plt.ylabel(\"Teams\", size = 25)\n",
        "plt.xlabel(\"Frequency\", size = 25)\n",
        "plt.xticks(size = 15)\n",
        "plt.yticks(size = 15)"
      ],
      "execution_count": 39,
      "outputs": [
        {
          "output_type": "execute_result",
          "data": {
            "text/plain": [
              "(array([0, 1, 2, 3, 4, 5]), <a list of 6 Text major ticklabel objects>)"
            ]
          },
          "metadata": {
            "tags": []
          },
          "execution_count": 39
        },
        {
          "output_type": "display_data",
          "data": {
            "image/png": "[encoded data removed]",
            "text/plain": [
              "<Figure size 1080x360 with 1 Axes>"
            ]
          },
          "metadata": {
            "tags": [],
            "needs_background": "light"
          }
        }
      ]
    },
    {
      "cell_type": "code",
      "metadata": {
        "colab": {
          "base_uri": "https://localhost:8080/",
          "height": 444
        },
        "id": "8tQbesRw0HgK",
        "outputId": "c40cea7e-f316-467c-90c9-bdb11f4ea794"
      },
      "source": [
        "matches['toss_decision'].value_counts().plot(kind='pie', fontsize=14, autopct='%3.1f%%', \n",
        "                                               figsize=(10,7), shadow=True, startangle=135, legend=True, cmap='Oranges')\n",
        "\n",
        "plt.ylabel('Toss Decision')\n",
        "plt.title('Decision taken by captains after winning tosses')"
      ],
      "execution_count": 40,
      "outputs": [
        {
          "output_type": "execute_result",
          "data": {
            "text/plain": [
              "Text(0.5, 1.0, 'Decision taken by captains after winning tosses')"
            ]
          },
          "metadata": {
            "tags": []
          },
          "execution_count": 40
        },
        {
          "output_type": "display_data",
          "data": {
            "image/png": "[encoded data removed]",
            "text/plain": [
              "<Figure size 720x504 with 1 Axes>"
            ]
          },
          "metadata": {
            "tags": []
          }
        }
      ]
    },
    {
      "cell_type": "code",
      "metadata": {
        "colab": {
          "base_uri": "https://localhost:8080/",
          "height": 444
        },
        "id": "ff8-nkwD0PvV",
        "outputId": "68b9d976-0034-4aff-d7dc-a7ed02dbb963"
      },
      "source": [
        "matches['toss_win_game_win'] = np.where((matches.toss_winner == matches.winner),'Yes','No')\n",
        "plt.figure(figsize = (15,5))\n",
        "sns.countplot('toss_win_game_win', data=matches, hue = 'toss_decision')\n",
        "plt.title(\"How Toss Decision affects match result\", fontsize=18,fontweight=\"bold\")\n",
        "plt.xticks(size = 15)\n",
        "plt.yticks(size = 15)\n",
        "plt.xlabel(\"Winning Toss and winning match\", fontsize = 25)\n",
        "plt.ylabel(\"Frequency\", fontsize = 25)"
      ],
      "execution_count": 41,
      "outputs": [
        {
          "output_type": "stream",
          "text": [
            "/usr/local/lib/python3.7/dist-packages/seaborn/_decorators.py:43: FutureWarning: Pass the following variable as a keyword arg: x. From version 0.12, the only valid positional argument will be `data`, and passing other arguments without an explicit keyword will result in an error or misinterpretation.\n",
            "  FutureWarning\n"
          ],
          "name": "stderr"
        },
        {
          "output_type": "execute_result",
          "data": {
            "text/plain": [
              "Text(0, 0.5, 'Frequency')"
            ]
          },
          "metadata": {
            "tags": []
          },
          "execution_count": 41
        },
        {
          "output_type": "display_data",
          "data": {
            "image/png": "[encoded data removed]",
            "text/plain": [
              "<Figure size 1080x360 with 1 Axes>"
            ]
          },
          "metadata": {
            "tags": [],
            "needs_background": "light"
          }
        }
      ]
    },
    {
      "cell_type": "code",
      "metadata": {
        "colab": {
          "base_uri": "https://localhost:8080/",
          "height": 593
        },
        "id": "FmR9FGzX0YFX",
        "outputId": "b0aafeae-0489-46c7-eef8-2f379c35a434"
      },
      "source": [
        "plt.figure(figsize = (25,10))\n",
        "sns.countplot('toss_winner', data = matches, hue = 'toss_decision')\n",
        "plt.title(\"Teams decision to bat first or second after winning toss\", size = 30, fontweight = 'bold')\n",
        "plt.xticks(size = 10)\n",
        "plt.yticks(size = 15)\n",
        "plt.xlabel(\"Toss Winner\", size = 35)\n",
        "plt.ylabel(\"Count\", size = 35)"
      ],
      "execution_count": 42,
      "outputs": [
        {
          "output_type": "stream",
          "text": [
            "/usr/local/lib/python3.7/dist-packages/seaborn/_decorators.py:43: FutureWarning: Pass the following variable as a keyword arg: x. From version 0.12, the only valid positional argument will be `data`, and passing other arguments without an explicit keyword will result in an error or misinterpretation.\n",
            "  FutureWarning\n"
          ],
          "name": "stderr"
        },
        {
          "output_type": "execute_result",
          "data": {
            "text/plain": [
              "Text(0, 0.5, 'Count')"
            ]
          },
          "metadata": {
            "tags": []
          },
          "execution_count": 42
        },
        {
          "output_type": "display_data",
          "data": {
            "image/png": "[encoded data removed]",
            "text/plain": [
              "<Figure size 1800x720 with 1 Axes>"
            ]
          },
          "metadata": {
            "tags": [],
            "needs_background": "light"
          }
        }
      ]
    },
    {
      "cell_type": "code",
      "metadata": {
        "colab": {
          "base_uri": "https://localhost:8080/",
          "height": 637
        },
        "id": "1mS0ruug0bNm",
        "outputId": "dd4f497d-1064-4853-b13f-9d76aa80aa49"
      },
      "source": [
        "MoM= matches['player_of_match'].value_counts()\n",
        "MoM.head(10).plot(kind = 'bar',figsize=(12,8), fontsize=15, color='blue')\n",
        "plt.title(\"Top 10 players with most MoM awards\",fontsize=18,fontweight=\"bold\")\n",
        "plt.ylabel(\"Frequency\", size = 25)\n",
        "plt.xlabel(\"Players\", size = 25)"
      ],
      "execution_count": 43,
      "outputs": [
        {
          "output_type": "execute_result",
          "data": {
            "text/plain": [
              "Text(0.5, 0, 'Players')"
            ]
          },
          "metadata": {
            "tags": []
          },
          "execution_count": 43
        },
        {
          "output_type": "display_data",
          "data": {
            "image/png": "[encoded data removed]",
            "text/plain": [
              "<Figure size 864x576 with 1 Axes>"
            ]
          },
          "metadata": {
            "tags": [],
            "needs_background": "light"
          }
        }
      ]
    },
    {
      "cell_type": "code",
      "metadata": {
        "colab": {
          "base_uri": "https://localhost:8080/",
          "height": 941
        },
        "id": "1KfqN3MR0lGZ",
        "outputId": "97901de9-5bed-4ada-b3f4-93ad6482bb72"
      },
      "source": [
        "new_matches = matches[matches['result'] == 'normal']   #taking all those matches where result is normal and creating a new dataframe\n",
        "new_matches['win_batting_first'] = np.where((new_matches.win_by_runs > 0), 'Yes', 'No')\n",
        "new_matches.groupby('venue')['win_batting_first'].value_counts().unstack().plot(kind = 'barh', stacked = True,\n",
        "                                                                               figsize=(15,15))\n",
        "plt.title(\"How winning matches by fielding first varies across venues?\", fontsize=18,fontweight=\"bold\")\n",
        "plt.xticks(size = 15)\n",
        "plt.yticks(size = 15)\n",
        "plt.xlabel(\"Frequency\", fontsize = 25)\n",
        "plt.ylabel(\"Venue\", fontsize = 25)"
      ],
      "execution_count": 51,
      "outputs": [
        {
          "output_type": "stream",
          "text": [
            "/usr/local/lib/python3.7/dist-packages/ipykernel_launcher.py:2: SettingWithCopyWarning: \n",
            "A value is trying to be set on a copy of a slice from a DataFrame.\n",
            "Try using .loc[row_indexer,col_indexer] = value instead\n",
            "\n",
            "See the caveats in the documentation: https://pandas.pydata.org/pandas-docs/stable/user_guide/indexing.html#returning-a-view-versus-a-copy\n",
            "  \n"
          ],
          "name": "stderr"
        },
        {
          "output_type": "execute_result",
          "data": {
            "text/plain": [
              "Text(0, 0.5, 'Venue')"
            ]
          },
          "metadata": {
            "tags": []
          },
          "execution_count": 51
        },
        {
          "output_type": "display_data",
          "data": {
            "image/png": "[encoded data removed]",
            "text/plain": [
              "<Figure size 1080x1080 with 1 Axes>"
            ]
          },
          "metadata": {
            "tags": [],
            "needs_background": "light"
          }
        }
      ]
    },
    {
      "cell_type": "code",
      "metadata": {
        "colab": {
          "base_uri": "https://localhost:8080/",
          "height": 445
        },
        "id": "XNMhiBIc0spi",
        "outputId": "231b03b7-3668-4150-b251-101fb694a516"
      },
      "source": [
        "plt.figure(figsize = (15,5))\n",
        "sns.countplot('season', data = new_matches, hue = 'win_batting_first')\n",
        "plt.title(\"Is batting second advantageous across all years\", fontsize=20,fontweight=\"bold\")\n",
        "plt.xticks(size = 15)\n",
        "plt.yticks(size = 15)\n",
        "plt.xlabel(\"Season\", fontsize = 25)\n",
        "plt.ylabel(\"Count\", fontsize = 25)"
      ],
      "execution_count": 45,
      "outputs": [
        {
          "output_type": "stream",
          "text": [
            "/usr/local/lib/python3.7/dist-packages/seaborn/_decorators.py:43: FutureWarning: Pass the following variable as a keyword arg: x. From version 0.12, the only valid positional argument will be `data`, and passing other arguments without an explicit keyword will result in an error or misinterpretation.\n",
            "  FutureWarning\n"
          ],
          "name": "stderr"
        },
        {
          "output_type": "execute_result",
          "data": {
            "text/plain": [
              "Text(0, 0.5, 'Count')"
            ]
          },
          "metadata": {
            "tags": []
          },
          "execution_count": 45
        },
        {
          "output_type": "display_data",
          "data": {
            "image/png": "[encoded data removed]",
            "text/plain": [
              "<Figure size 1080x360 with 1 Axes>"
            ]
          },
          "metadata": {
            "tags": [],
            "needs_background": "light"
          }
        }
      ]
    },
    {
      "cell_type": "code",
      "metadata": {
        "colab": {
          "base_uri": "https://localhost:8080/",
          "height": 472
        },
        "id": "R1EkwdW80zSl",
        "outputId": "07b498f5-f487-4a94-9dbe-3fffac17b0d2"
      },
      "source": [
        "#let's plot the top 10 run getter so far in IPL\n",
        "merge.groupby('batsman')['batsman_runs'].sum().sort_values(ascending = False).head(10).plot(kind = 'bar', color = 'orange',\n",
        "                                                                                            figsize = (15,5))\n",
        "plt.title(\"Top Run Getters of IPL\", fontsize = 20, fontweight = 'bold')\n",
        "plt.xlabel(\"Batsmen\", size = 25)\n",
        "plt.ylabel(\"Total Runs Scored\", size = 25)\n",
        "plt.xticks(size = 12)\n",
        "plt.yticks(size = 12)"
      ],
      "execution_count": 47,
      "outputs": [
        {
          "output_type": "execute_result",
          "data": {
            "text/plain": [
              "(array([   0., 1000., 2000., 3000., 4000., 5000., 6000.]),\n",
              " <a list of 7 Text major ticklabel objects>)"
            ]
          },
          "metadata": {
            "tags": []
          },
          "execution_count": 47
        },
        {
          "output_type": "display_data",
          "data": {
            "image/png": "[encoded data removed]",
            "text/plain": [
              "<Figure size 1080x360 with 1 Axes>"
            ]
          },
          "metadata": {
            "tags": [],
            "needs_background": "light"
          }
        }
      ]
    },
    {
      "cell_type": "code",
      "metadata": {
        "colab": {
          "base_uri": "https://localhost:8080/",
          "height": 594
        },
        "id": "KHTxdo2P04Ew",
        "outputId": "75f3845a-c7ca-418c-b063-7717d6e7ae4a"
      },
      "source": [
        "consistent_batsman = merge[merge.batsman.isin(['SK Raina', 'V Kohli','RG Sharma','G Gambhir',\n",
        "                                            'RV Uthappa', 'S Dhawan','CH Gayle', 'MS Dhoni',\n",
        "                                            'DA Warner', 'AB de Villiers'])][['batsman','season','total_runs']]\n",
        "\n",
        "consistent_batsman.groupby(['season','batsman'])['total_runs'].sum().unstack().plot(kind = 'bar', figsize = (15,8))\n",
        "plt.title(\"Most Consistent batsmen of IPL\", fontsize = 20, fontweight = 'bold')\n",
        "plt.xlabel(\"Batsmen\", size = 25)\n",
        "plt.ylabel(\"Total Runs Scored each season\", size = 25)\n",
        "plt.xticks(size = 15)\n",
        "plt.yticks(size = 15)"
      ],
      "execution_count": 48,
      "outputs": [
        {
          "output_type": "execute_result",
          "data": {
            "text/plain": [
              "(array([   0.,  200.,  400.,  600.,  800., 1000., 1200.]),\n",
              " <a list of 7 Text major ticklabel objects>)"
            ]
          },
          "metadata": {
            "tags": []
          },
          "execution_count": 48
        },
        {
          "output_type": "display_data",
          "data": {
            "image/png": "[encoded data removed]",
            "text/plain": [
              "<Figure size 1080x576 with 1 Axes>"
            ]
          },
          "metadata": {
            "tags": [],
            "needs_background": "light"
          }
        }
      ]
    },
    {
      "cell_type": "code",
      "metadata": {
        "colab": {
          "base_uri": "https://localhost:8080/",
          "height": 406
        },
        "id": "vkJzDJcU1QJr",
        "outputId": "26607946-046a-4805-f505-b7a1ab968c18"
      },
      "source": [
        "merge.groupby('bowler')['player_dismissed'].count().sort_values(ascending = False).head(10).plot(kind = 'barh', \n",
        "                                                color = 'purple', figsize = (15,5))\n",
        "plt.title(\"Top Wicket Takers of IPL\", fontsize = 20, fontweight = 'bold')\n",
        "plt.xlabel(\"Bowler\", size = 25)\n",
        "plt.ylabel(\"Total Wickets Taken\", size = 25)\n",
        "plt.xticks(size = 12)\n",
        "plt.yticks(size = 12)"
      ],
      "execution_count": 52,
      "outputs": [
        {
          "output_type": "execute_result",
          "data": {
            "text/plain": [
              "(array([0, 1, 2, 3, 4, 5, 6, 7, 8, 9]),\n",
              " <a list of 10 Text major ticklabel objects>)"
            ]
          },
          "metadata": {
            "tags": []
          },
          "execution_count": 52
        },
        {
          "output_type": "display_data",
          "data": {
            "image/png": "[encoded data removed]",
            "text/plain": [
              "<Figure size 1080x360 with 1 Axes>"
            ]
          },
          "metadata": {
            "tags": [],
            "needs_background": "light"
          }
        }
      ]
    },
    {
      "cell_type": "code",
      "metadata": {
        "colab": {
          "base_uri": "https://localhost:8080/",
          "height": 204
        },
        "id": "rYext7W71nCR",
        "outputId": "c83c509f-4851-4035-d324-51be371b940d"
      },
      "source": [
        "#We will consider players who have played 5 or more seasons\n",
        "no_of_balls = pd.DataFrame(merge.groupby('batsman')['ball'].count()) #total number of matches played by each batsman\n",
        "runs = pd.DataFrame(merge.groupby('batsman')['batsman_runs'].sum()) #total runs of each batsman\n",
        "seasons = pd.DataFrame(merge.groupby('batsman')['season'].nunique()) #season = 1 implies played only 1 season\n",
        "\n",
        "batsman_strike_rate = pd.DataFrame({'balls':no_of_balls['ball'],'run':runs['batsman_runs'],'season':seasons['season']})\n",
        "batsman_strike_rate.reset_index(inplace = True)\n",
        "\n",
        "batsman_strike_rate['strike_rate'] = batsman_strike_rate['run']/batsman_strike_rate['balls']*100\n",
        "highest_strike_rate = batsman_strike_rate[batsman_strike_rate.season.isin([10,11])][['season','batsman','strike_rate']].sort_values(by = 'strike_rate',\n",
        "                                                                                                            ascending = False)\n",
        "\n",
        "highest_strike_rate.head(5)"
      ],
      "execution_count": 53,
      "outputs": [
        {
          "output_type": "execute_result",
          "data": {
            "text/html": [
              "<div>\n",
              "<style scoped>\n",
              "    .dataframe tbody tr th:only-of-type {\n",
              "        vertical-align: middle;\n",
              "    }\n",
              "\n",
              "    .dataframe tbody tr th {\n",
              "        vertical-align: top;\n",
              "    }\n",
              "\n",
              "    .dataframe thead th {\n",
              "        text-align: right;\n",
              "    }\n",
              "</style>\n",
              "<table border=\"1\" class=\"dataframe\">\n",
              "  <thead>\n",
              "    <tr style=\"text-align: right;\">\n",
              "      <th></th>\n",
              "      <th>season</th>\n",
              "      <th>batsman</th>\n",
              "      <th>strike_rate</th>\n",
              "    </tr>\n",
              "  </thead>\n",
              "  <tbody>\n",
              "    <tr>\n",
              "      <th>92</th>\n",
              "      <td>11</td>\n",
              "      <td>CH Gayle</td>\n",
              "      <td>145.640370</td>\n",
              "    </tr>\n",
              "    <tr>\n",
              "      <th>213</th>\n",
              "      <td>10</td>\n",
              "      <td>KA Pollard</td>\n",
              "      <td>141.751527</td>\n",
              "    </tr>\n",
              "    <tr>\n",
              "      <th>112</th>\n",
              "      <td>10</td>\n",
              "      <td>DA Warner</td>\n",
              "      <td>139.523249</td>\n",
              "    </tr>\n",
              "    <tr>\n",
              "      <th>444</th>\n",
              "      <td>11</td>\n",
              "      <td>SR Watson</td>\n",
              "      <td>136.945813</td>\n",
              "    </tr>\n",
              "    <tr>\n",
              "      <th>72</th>\n",
              "      <td>11</td>\n",
              "      <td>BB McCullum</td>\n",
              "      <td>127.332746</td>\n",
              "    </tr>\n",
              "  </tbody>\n",
              "</table>\n",
              "</div>"
            ],
            "text/plain": [
              "     season      batsman  strike_rate\n",
              "92       11     CH Gayle   145.640370\n",
              "213      10   KA Pollard   141.751527\n",
              "112      10    DA Warner   139.523249\n",
              "444      11    SR Watson   136.945813\n",
              "72       11  BB McCullum   127.332746"
            ]
          },
          "metadata": {
            "tags": []
          },
          "execution_count": 53
        }
      ]
    },
    {
      "cell_type": "code",
      "metadata": {
        "colab": {
          "base_uri": "https://localhost:8080/",
          "height": 470
        },
        "id": "41D7tbwk1ytR",
        "outputId": "2c01317f-dc13-4cfa-b90d-d2b24a166341"
      },
      "source": [
        "plt.figure(figsize = (15,6))\n",
        "sns.barplot(x='batsman', y='strike_rate', data = highest_strike_rate.head(10), hue = 'season')\n",
        "plt.title(\"Highest strike rates in IPL\",fontsize= 30, fontweight = 'bold')\n",
        "plt.xlabel(\"Player\", size = 25)\n",
        "plt.ylabel(\"Strike Rate\", size = 25)\n",
        "plt.xticks(size = 15 )\n",
        "plt.yticks(size = 15)"
      ],
      "execution_count": 68,
      "outputs": [
        {
          "output_type": "execute_result",
          "data": {
            "text/plain": [
              "(array([  0.,  20.,  40.,  60.,  80., 100., 120., 140., 160.]),\n",
              " <a list of 9 Text major ticklabel objects>)"
            ]
          },
          "metadata": {
            "tags": []
          },
          "execution_count": 68
        },
        {
          "output_type": "display_data",
          "data": {
            "image/png": "[encoded data removed]",
            "text/plain": [
              "<Figure size 1080x432 with 1 Axes>"
            ]
          },
          "metadata": {
            "tags": [],
            "needs_background": "light"
          }
        }
      ]
    },
    {
      "cell_type": "code",
      "metadata": {
        "colab": {
          "base_uri": "https://localhost:8080/",
          "height": 467
        },
        "id": "EjQQ25fM139l",
        "outputId": "3f194614-b599-44ac-e8a9-b450cc2efdc3"
      },
      "source": [
        "# Bowlers with maximum number of extras\n",
        "extra = deliveries[deliveries['extra_runs']!=0]['bowler'].value_counts()[:10]\n",
        "extra.plot(kind='barh', figsize=(11,6), title='Bowlers who have bowled maximum number of Extra balls')\n",
        "\n",
        "plt.xlabel('BOWLER')\n",
        "plt.ylabel('BALLS')\n",
        "plt.show()\n",
        "\n",
        "extra = pd.DataFrame(extra)\n",
        "extra.T"
      ],
      "execution_count": 63,
      "outputs": [
        {
          "output_type": "display_data",
          "data": {
            "image/png": "[encoded data removed]",
            "text/plain": [
              "<Figure size 792x432 with 1 Axes>"
            ]
          },
          "metadata": {
            "tags": [],
            "needs_background": "light"
          }
        },
        {
          "output_type": "execute_result",
          "data": {
            "text/html": [
              "<div>\n",
              "<style scoped>\n",
              "    .dataframe tbody tr th:only-of-type {\n",
              "        vertical-align: middle;\n",
              "    }\n",
              "\n",
              "    .dataframe tbody tr th {\n",
              "        vertical-align: top;\n",
              "    }\n",
              "\n",
              "    .dataframe thead th {\n",
              "        text-align: right;\n",
              "    }\n",
              "</style>\n",
              "<table border=\"1\" class=\"dataframe\">\n",
              "  <thead>\n",
              "    <tr style=\"text-align: right;\">\n",
              "      <th></th>\n",
              "      <th>SL Malinga</th>\n",
              "      <th>P Kumar</th>\n",
              "      <th>UT Yadav</th>\n",
              "      <th>DJ Bravo</th>\n",
              "      <th>B Kumar</th>\n",
              "      <th>SR Watson</th>\n",
              "      <th>I Sharma</th>\n",
              "      <th>RP Singh</th>\n",
              "      <th>DW Steyn</th>\n",
              "      <th>R Ashwin</th>\n",
              "    </tr>\n",
              "  </thead>\n",
              "  <tbody>\n",
              "    <tr>\n",
              "      <th>bowler</th>\n",
              "      <td>221</td>\n",
              "      <td>185</td>\n",
              "      <td>180</td>\n",
              "      <td>176</td>\n",
              "      <td>162</td>\n",
              "      <td>155</td>\n",
              "      <td>151</td>\n",
              "      <td>145</td>\n",
              "      <td>139</td>\n",
              "      <td>133</td>\n",
              "    </tr>\n",
              "  </tbody>\n",
              "</table>\n",
              "</div>"
            ],
            "text/plain": [
              "        SL Malinga  P Kumar  UT Yadav  ...  RP Singh  DW Steyn  R Ashwin\n",
              "bowler         221      185       180  ...       145       139       133\n",
              "\n",
              "[1 rows x 10 columns]"
            ]
          },
          "metadata": {
            "tags": []
          },
          "execution_count": 63
        }
      ]
    },
    {
      "cell_type": "code",
      "metadata": {
        "id": "Sk1Zlkin2i7I"
      },
      "source": [
        "#strike_rate = balls bowled by wickets taken\n",
        "balls_bowled = pd.DataFrame(merge.groupby('bowler')['ball'].count())\n",
        "wickets_taken = pd.DataFrame(merge[merge['dismissal_kind'] != 'no dismissal'].groupby('bowler')['dismissal_kind'].count())\n",
        "seasons_played = pd.DataFrame(merge.groupby('bowler')['season'].nunique())\n",
        "bowler_strike_rate = pd.DataFrame({'balls':balls_bowled['ball'],'wickets':wickets_taken['dismissal_kind'],\n",
        "                          'season':seasons_played['season']})\n",
        "bowler_strike_rate.reset_index(inplace = True)"
      ],
      "execution_count": 64,
      "outputs": []
    },
    {
      "cell_type": "code",
      "metadata": {
        "colab": {
          "base_uri": "https://localhost:8080/",
          "height": 145
        },
        "id": "MPOrTxx02sD1",
        "outputId": "5ec43469-80c4-4fb5-a370-d040130f4930"
      },
      "source": [
        "bowler_strike_rate['strike_rate'] = bowler_strike_rate['balls']/bowler_strike_rate['wickets']\n",
        "def highlight_cols(s):\n",
        "    color = 'skyblue'\n",
        "    return 'background-color: %s' % color\n",
        "#Strike rate for bowlers who have taken more than 50 wickets\n",
        "best_bowling_strike_rate = bowler_strike_rate[bowler_strike_rate['wickets'] > 50].sort_values(by = 'strike_rate', ascending = True)\n",
        "best_bowling_strike_rate.head().style.applymap(highlight_cols, subset=pd.IndexSlice[:, ['bowler', 'wickets','strike_rate']])"
      ],
      "execution_count": 69,
      "outputs": [
        {
          "output_type": "execute_result",
          "data": {
            "text/html": [
              "<style  type=\"text/css\" >\n",
              "#T_3dc49fe6_a5bc_11eb_8d8b_0242ac1c0002row0_col0,#T_3dc49fe6_a5bc_11eb_8d8b_0242ac1c0002row0_col2,#T_3dc49fe6_a5bc_11eb_8d8b_0242ac1c0002row0_col4,#T_3dc49fe6_a5bc_11eb_8d8b_0242ac1c0002row1_col0,#T_3dc49fe6_a5bc_11eb_8d8b_0242ac1c0002row1_col2,#T_3dc49fe6_a5bc_11eb_8d8b_0242ac1c0002row1_col4,#T_3dc49fe6_a5bc_11eb_8d8b_0242ac1c0002row2_col0,#T_3dc49fe6_a5bc_11eb_8d8b_0242ac1c0002row2_col2,#T_3dc49fe6_a5bc_11eb_8d8b_0242ac1c0002row2_col4,#T_3dc49fe6_a5bc_11eb_8d8b_0242ac1c0002row3_col0,#T_3dc49fe6_a5bc_11eb_8d8b_0242ac1c0002row3_col2,#T_3dc49fe6_a5bc_11eb_8d8b_0242ac1c0002row3_col4,#T_3dc49fe6_a5bc_11eb_8d8b_0242ac1c0002row4_col0,#T_3dc49fe6_a5bc_11eb_8d8b_0242ac1c0002row4_col2,#T_3dc49fe6_a5bc_11eb_8d8b_0242ac1c0002row4_col4{\n",
              "            background-color:  skyblue;\n",
              "        }</style><table id=\"T_3dc49fe6_a5bc_11eb_8d8b_0242ac1c0002\" ><thead>    <tr>        <th class=\"blank level0\" ></th>        <th class=\"col_heading level0 col0\" >bowler</th>        <th class=\"col_heading level0 col1\" >balls</th>        <th class=\"col_heading level0 col2\" >wickets</th>        <th class=\"col_heading level0 col3\" >season</th>        <th class=\"col_heading level0 col4\" >strike_rate</th>    </tr></thead><tbody>\n",
              "                <tr>\n",
              "                        <th id=\"T_3dc49fe6_a5bc_11eb_8d8b_0242ac1c0002level0_row0\" class=\"row_heading level0 row0\" >134</th>\n",
              "                        <td id=\"T_3dc49fe6_a5bc_11eb_8d8b_0242ac1c0002row0_col0\" class=\"data row0 col0\" >Imran Tahir</td>\n",
              "                        <td id=\"T_3dc49fe6_a5bc_11eb_8d8b_0242ac1c0002row0_col1\" class=\"data row0 col1\" >1249</td>\n",
              "                        <td id=\"T_3dc49fe6_a5bc_11eb_8d8b_0242ac1c0002row0_col2\" class=\"data row0 col2\" >82</td>\n",
              "                        <td id=\"T_3dc49fe6_a5bc_11eb_8d8b_0242ac1c0002row0_col3\" class=\"data row0 col3\" >6</td>\n",
              "                        <td id=\"T_3dc49fe6_a5bc_11eb_8d8b_0242ac1c0002row0_col4\" class=\"data row0 col4\" >15.231707</td>\n",
              "            </tr>\n",
              "            <tr>\n",
              "                        <th id=\"T_3dc49fe6_a5bc_11eb_8d8b_0242ac1c0002level0_row1\" class=\"row_heading level0 row1\" >340</th>\n",
              "                        <td id=\"T_3dc49fe6_a5bc_11eb_8d8b_0242ac1c0002row1_col0\" class=\"data row1 col0\" >SL Malinga</td>\n",
              "                        <td id=\"T_3dc49fe6_a5bc_11eb_8d8b_0242ac1c0002row1_col1\" class=\"data row1 col1\" >2974</td>\n",
              "                        <td id=\"T_3dc49fe6_a5bc_11eb_8d8b_0242ac1c0002row1_col2\" class=\"data row1 col2\" >188</td>\n",
              "                        <td id=\"T_3dc49fe6_a5bc_11eb_8d8b_0242ac1c0002row1_col3\" class=\"data row1 col3\" >9</td>\n",
              "                        <td id=\"T_3dc49fe6_a5bc_11eb_8d8b_0242ac1c0002row1_col4\" class=\"data row1 col4\" >15.819149</td>\n",
              "            </tr>\n",
              "            <tr>\n",
              "                        <th id=\"T_3dc49fe6_a5bc_11eb_8d8b_0242ac1c0002level0_row2\" class=\"row_heading level0 row2\" >93</th>\n",
              "                        <td id=\"T_3dc49fe6_a5bc_11eb_8d8b_0242ac1c0002row2_col0\" class=\"data row2 col0\" >DJ Bravo</td>\n",
              "                        <td id=\"T_3dc49fe6_a5bc_11eb_8d8b_0242ac1c0002row2_col1\" class=\"data row2 col1\" >2711</td>\n",
              "                        <td id=\"T_3dc49fe6_a5bc_11eb_8d8b_0242ac1c0002row2_col2\" class=\"data row2 col2\" >168</td>\n",
              "                        <td id=\"T_3dc49fe6_a5bc_11eb_8d8b_0242ac1c0002row2_col3\" class=\"data row2 col3\" >10</td>\n",
              "                        <td id=\"T_3dc49fe6_a5bc_11eb_8d8b_0242ac1c0002row2_col4\" class=\"data row2 col4\" >16.136905</td>\n",
              "            </tr>\n",
              "            <tr>\n",
              "                        <th id=\"T_3dc49fe6_a5bc_11eb_8d8b_0242ac1c0002level0_row3\" class=\"row_heading level0 row3\" >9</th>\n",
              "                        <td id=\"T_3dc49fe6_a5bc_11eb_8d8b_0242ac1c0002row3_col0\" class=\"data row3 col0\" >A Nehra</td>\n",
              "                        <td id=\"T_3dc49fe6_a5bc_11eb_8d8b_0242ac1c0002row3_col1\" class=\"data row3 col1\" >1974</td>\n",
              "                        <td id=\"T_3dc49fe6_a5bc_11eb_8d8b_0242ac1c0002row3_col2\" class=\"data row3 col2\" >121</td>\n",
              "                        <td id=\"T_3dc49fe6_a5bc_11eb_8d8b_0242ac1c0002row3_col3\" class=\"data row3 col3\" >9</td>\n",
              "                        <td id=\"T_3dc49fe6_a5bc_11eb_8d8b_0242ac1c0002row3_col4\" class=\"data row3 col4\" >16.314050</td>\n",
              "            </tr>\n",
              "            <tr>\n",
              "                        <th id=\"T_3dc49fe6_a5bc_11eb_8d8b_0242ac1c0002level0_row4\" class=\"row_heading level0 row4\" >225</th>\n",
              "                        <td id=\"T_3dc49fe6_a5bc_11eb_8d8b_0242ac1c0002row4_col0\" class=\"data row4 col0\" >MM Patel</td>\n",
              "                        <td id=\"T_3dc49fe6_a5bc_11eb_8d8b_0242ac1c0002row4_col1\" class=\"data row4 col1\" >1382</td>\n",
              "                        <td id=\"T_3dc49fe6_a5bc_11eb_8d8b_0242ac1c0002row4_col2\" class=\"data row4 col2\" >82</td>\n",
              "                        <td id=\"T_3dc49fe6_a5bc_11eb_8d8b_0242ac1c0002row4_col3\" class=\"data row4 col3\" >7</td>\n",
              "                        <td id=\"T_3dc49fe6_a5bc_11eb_8d8b_0242ac1c0002row4_col4\" class=\"data row4 col4\" >16.853659</td>\n",
              "            </tr>\n",
              "    </tbody></table>"
            ],
            "text/plain": [
              "<pandas.io.formats.style.Styler at 0x7f46e29fef10>"
            ]
          },
          "metadata": {
            "tags": []
          },
          "execution_count": 69
        }
      ]
    },
    {
      "cell_type": "markdown",
      "metadata": {
        "id": "NxXfApp73h6l"
      },
      "source": [
        " **Mumbai Indians is the most successful team in IPL and has won the most \n",
        "number of toss.**<br>\n",
        "\n",
        "\n",
        "**If a team wins a toss choose to field first as it has highest probablity of winning**"
      ]
    },
    {
      "cell_type": "code",
      "metadata": {
        "id": "IiUBywsP3KRK"
      },
      "source": [
        ""
      ],
      "execution_count": null,
      "outputs": []
    }
  ]
}